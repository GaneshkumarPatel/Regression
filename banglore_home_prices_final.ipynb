{
 "cells": [
  {
   "cell_type": "markdown",
   "metadata": {},
   "source": [
    "<h1 style='color:DarkBlue' align='center'> Home Prices Prediction for Banglore Dataset from Kaggle</h1>"
   ]
  },
  {
   "cell_type": "markdown",
   "metadata": {},
   "source": [
    "Dataset is downloaded from here: https://www.kaggle.com/amitabhajoy/bengaluru-house-price-data\n",
    "##### Note:\n",
    "<h4 style='color:Darkblue'> Data preprocessing and feature engineering ideas are inspired from\n",
    "\n",
    "**[ codebasics Youtube channel](#:)** end to end project tutorial.  </h4> "
   ]
  },
  {
   "cell_type": "code",
   "execution_count": 1,
   "metadata": {},
   "outputs": [],
   "source": [
    "import pandas as pd\n",
    "import numpy as np\n",
    "from matplotlib import pyplot as plt\n",
    "%matplotlib inline\n",
    "import matplotlib \n",
    "matplotlib.rcParams[\"figure.figsize\"] = (20,10)"
   ]
  },
  {
   "cell_type": "markdown",
   "metadata": {},
   "source": [
    "### Data Load: Load banglore home prices into a dataframe"
   ]
  },
  {
   "cell_type": "code",
   "execution_count": 2,
   "metadata": {
    "scrolled": true
   },
   "outputs": [
    {
     "data": {
      "text/html": [
       "<div>\n",
       "<style scoped>\n",
       "    .dataframe tbody tr th:only-of-type {\n",
       "        vertical-align: middle;\n",
       "    }\n",
       "\n",
       "    .dataframe tbody tr th {\n",
       "        vertical-align: top;\n",
       "    }\n",
       "\n",
       "    .dataframe thead th {\n",
       "        text-align: right;\n",
       "    }\n",
       "</style>\n",
       "<table border=\"1\" class=\"dataframe\">\n",
       "  <thead>\n",
       "    <tr style=\"text-align: right;\">\n",
       "      <th></th>\n",
       "      <th>area_type</th>\n",
       "      <th>availability</th>\n",
       "      <th>location</th>\n",
       "      <th>size</th>\n",
       "      <th>society</th>\n",
       "      <th>total_sqft</th>\n",
       "      <th>bath</th>\n",
       "      <th>balcony</th>\n",
       "      <th>price</th>\n",
       "    </tr>\n",
       "  </thead>\n",
       "  <tbody>\n",
       "    <tr>\n",
       "      <th>0</th>\n",
       "      <td>Super built-up  Area</td>\n",
       "      <td>19-Dec</td>\n",
       "      <td>Electronic City Phase II</td>\n",
       "      <td>2 BHK</td>\n",
       "      <td>Coomee</td>\n",
       "      <td>1056</td>\n",
       "      <td>2.0</td>\n",
       "      <td>1.0</td>\n",
       "      <td>39.07</td>\n",
       "    </tr>\n",
       "    <tr>\n",
       "      <th>1</th>\n",
       "      <td>Plot  Area</td>\n",
       "      <td>Ready To Move</td>\n",
       "      <td>Chikka Tirupathi</td>\n",
       "      <td>4 Bedroom</td>\n",
       "      <td>Theanmp</td>\n",
       "      <td>2600</td>\n",
       "      <td>5.0</td>\n",
       "      <td>3.0</td>\n",
       "      <td>120.00</td>\n",
       "    </tr>\n",
       "    <tr>\n",
       "      <th>2</th>\n",
       "      <td>Built-up  Area</td>\n",
       "      <td>Ready To Move</td>\n",
       "      <td>Uttarahalli</td>\n",
       "      <td>3 BHK</td>\n",
       "      <td>NaN</td>\n",
       "      <td>1440</td>\n",
       "      <td>2.0</td>\n",
       "      <td>3.0</td>\n",
       "      <td>62.00</td>\n",
       "    </tr>\n",
       "    <tr>\n",
       "      <th>3</th>\n",
       "      <td>Super built-up  Area</td>\n",
       "      <td>Ready To Move</td>\n",
       "      <td>Lingadheeranahalli</td>\n",
       "      <td>3 BHK</td>\n",
       "      <td>Soiewre</td>\n",
       "      <td>1521</td>\n",
       "      <td>3.0</td>\n",
       "      <td>1.0</td>\n",
       "      <td>95.00</td>\n",
       "    </tr>\n",
       "    <tr>\n",
       "      <th>4</th>\n",
       "      <td>Super built-up  Area</td>\n",
       "      <td>Ready To Move</td>\n",
       "      <td>Kothanur</td>\n",
       "      <td>2 BHK</td>\n",
       "      <td>NaN</td>\n",
       "      <td>1200</td>\n",
       "      <td>2.0</td>\n",
       "      <td>1.0</td>\n",
       "      <td>51.00</td>\n",
       "    </tr>\n",
       "  </tbody>\n",
       "</table>\n",
       "</div>"
      ],
      "text/plain": [
       "              area_type   availability                  location       size  \\\n",
       "0  Super built-up  Area         19-Dec  Electronic City Phase II      2 BHK   \n",
       "1            Plot  Area  Ready To Move          Chikka Tirupathi  4 Bedroom   \n",
       "2        Built-up  Area  Ready To Move               Uttarahalli      3 BHK   \n",
       "3  Super built-up  Area  Ready To Move        Lingadheeranahalli      3 BHK   \n",
       "4  Super built-up  Area  Ready To Move                  Kothanur      2 BHK   \n",
       "\n",
       "   society total_sqft  bath  balcony   price  \n",
       "0  Coomee        1056   2.0      1.0   39.07  \n",
       "1  Theanmp       2600   5.0      3.0  120.00  \n",
       "2      NaN       1440   2.0      3.0   62.00  \n",
       "3  Soiewre       1521   3.0      1.0   95.00  \n",
       "4      NaN       1200   2.0      1.0   51.00  "
      ]
     },
     "execution_count": 2,
     "metadata": {},
     "output_type": "execute_result"
    }
   ],
   "source": [
    "df1 = pd.read_csv(\"bengaluru_house_prices.csv\")\n",
    "df1.head()"
   ]
  },
  {
   "cell_type": "code",
   "execution_count": 3,
   "metadata": {},
   "outputs": [
    {
     "data": {
      "text/plain": [
       "(13320, 9)"
      ]
     },
     "execution_count": 3,
     "metadata": {},
     "output_type": "execute_result"
    }
   ],
   "source": [
    "df1.shape"
   ]
  },
  {
   "cell_type": "code",
   "execution_count": 4,
   "metadata": {},
   "outputs": [
    {
     "data": {
      "text/plain": [
       "Index(['area_type', 'availability', 'location', 'size', 'society',\n",
       "       'total_sqft', 'bath', 'balcony', 'price'],\n",
       "      dtype='object')"
      ]
     },
     "execution_count": 4,
     "metadata": {},
     "output_type": "execute_result"
    }
   ],
   "source": [
    "df1.columns"
   ]
  },
  {
   "cell_type": "code",
   "execution_count": 5,
   "metadata": {
    "scrolled": true
   },
   "outputs": [
    {
     "data": {
      "text/html": [
       "<div>\n",
       "<style scoped>\n",
       "    .dataframe tbody tr th:only-of-type {\n",
       "        vertical-align: middle;\n",
       "    }\n",
       "\n",
       "    .dataframe tbody tr th {\n",
       "        vertical-align: top;\n",
       "    }\n",
       "\n",
       "    .dataframe thead th {\n",
       "        text-align: right;\n",
       "    }\n",
       "</style>\n",
       "<table border=\"1\" class=\"dataframe\">\n",
       "  <thead>\n",
       "    <tr style=\"text-align: right;\">\n",
       "      <th></th>\n",
       "      <th>Missing value</th>\n",
       "      <th>N unique value</th>\n",
       "      <th>min value</th>\n",
       "      <th>max value</th>\n",
       "      <th>Mean</th>\n",
       "      <th>Median</th>\n",
       "      <th>Mode</th>\n",
       "      <th>Skewness</th>\n",
       "      <th>dtype</th>\n",
       "    </tr>\n",
       "  </thead>\n",
       "  <tbody>\n",
       "    <tr>\n",
       "      <th>area_type</th>\n",
       "      <td>0</td>\n",
       "      <td>4</td>\n",
       "      <td>Built-up  Area</td>\n",
       "      <td>Super built-up  Area</td>\n",
       "      <td>NaN</td>\n",
       "      <td>NaN</td>\n",
       "      <td>Super built-up  Area</td>\n",
       "      <td>NaN</td>\n",
       "      <td>object</td>\n",
       "    </tr>\n",
       "    <tr>\n",
       "      <th>availability</th>\n",
       "      <td>0</td>\n",
       "      <td>81</td>\n",
       "      <td>14-Jul</td>\n",
       "      <td>Ready To Move</td>\n",
       "      <td>NaN</td>\n",
       "      <td>NaN</td>\n",
       "      <td>Ready To Move</td>\n",
       "      <td>NaN</td>\n",
       "      <td>object</td>\n",
       "    </tr>\n",
       "    <tr>\n",
       "      <th>location</th>\n",
       "      <td>1</td>\n",
       "      <td>1305</td>\n",
       "      <td>NaN</td>\n",
       "      <td>NaN</td>\n",
       "      <td>NaN</td>\n",
       "      <td>NaN</td>\n",
       "      <td>Whitefield</td>\n",
       "      <td>NaN</td>\n",
       "      <td>object</td>\n",
       "    </tr>\n",
       "    <tr>\n",
       "      <th>size</th>\n",
       "      <td>16</td>\n",
       "      <td>31</td>\n",
       "      <td>NaN</td>\n",
       "      <td>NaN</td>\n",
       "      <td>NaN</td>\n",
       "      <td>NaN</td>\n",
       "      <td>2 BHK</td>\n",
       "      <td>NaN</td>\n",
       "      <td>object</td>\n",
       "    </tr>\n",
       "    <tr>\n",
       "      <th>society</th>\n",
       "      <td>5502</td>\n",
       "      <td>2688</td>\n",
       "      <td>NaN</td>\n",
       "      <td>NaN</td>\n",
       "      <td>NaN</td>\n",
       "      <td>NaN</td>\n",
       "      <td>GrrvaGr</td>\n",
       "      <td>NaN</td>\n",
       "      <td>object</td>\n",
       "    </tr>\n",
       "    <tr>\n",
       "      <th>total_sqft</th>\n",
       "      <td>0</td>\n",
       "      <td>2117</td>\n",
       "      <td>1</td>\n",
       "      <td>999</td>\n",
       "      <td>NaN</td>\n",
       "      <td>NaN</td>\n",
       "      <td>1200</td>\n",
       "      <td>NaN</td>\n",
       "      <td>object</td>\n",
       "    </tr>\n",
       "    <tr>\n",
       "      <th>bath</th>\n",
       "      <td>73</td>\n",
       "      <td>19</td>\n",
       "      <td>1</td>\n",
       "      <td>40</td>\n",
       "      <td>2.692610</td>\n",
       "      <td>2.0</td>\n",
       "      <td>2</td>\n",
       "      <td>4.227697</td>\n",
       "      <td>float64</td>\n",
       "    </tr>\n",
       "    <tr>\n",
       "      <th>balcony</th>\n",
       "      <td>609</td>\n",
       "      <td>4</td>\n",
       "      <td>0</td>\n",
       "      <td>3</td>\n",
       "      <td>1.584376</td>\n",
       "      <td>2.0</td>\n",
       "      <td>2</td>\n",
       "      <td>0.005857</td>\n",
       "      <td>float64</td>\n",
       "    </tr>\n",
       "    <tr>\n",
       "      <th>price</th>\n",
       "      <td>0</td>\n",
       "      <td>1994</td>\n",
       "      <td>8</td>\n",
       "      <td>3600</td>\n",
       "      <td>112.565627</td>\n",
       "      <td>72.0</td>\n",
       "      <td>75</td>\n",
       "      <td>8.064469</td>\n",
       "      <td>float64</td>\n",
       "    </tr>\n",
       "  </tbody>\n",
       "</table>\n",
       "</div>"
      ],
      "text/plain": [
       "              Missing value  N unique value       min value  \\\n",
       "area_type                 0               4  Built-up  Area   \n",
       "availability              0              81          14-Jul   \n",
       "location                  1            1305             NaN   \n",
       "size                     16              31             NaN   \n",
       "society                5502            2688             NaN   \n",
       "total_sqft                0            2117               1   \n",
       "bath                     73              19               1   \n",
       "balcony                 609               4               0   \n",
       "price                     0            1994               8   \n",
       "\n",
       "                         max value        Mean  Median                  Mode  \\\n",
       "area_type     Super built-up  Area         NaN     NaN  Super built-up  Area   \n",
       "availability         Ready To Move         NaN     NaN         Ready To Move   \n",
       "location                       NaN         NaN     NaN            Whitefield   \n",
       "size                           NaN         NaN     NaN                 2 BHK   \n",
       "society                        NaN         NaN     NaN               GrrvaGr   \n",
       "total_sqft                     999         NaN     NaN                  1200   \n",
       "bath                            40    2.692610     2.0                     2   \n",
       "balcony                          3    1.584376     2.0                     2   \n",
       "price                         3600  112.565627    72.0                    75   \n",
       "\n",
       "              Skewness    dtype  \n",
       "area_type          NaN   object  \n",
       "availability       NaN   object  \n",
       "location           NaN   object  \n",
       "size               NaN   object  \n",
       "society            NaN   object  \n",
       "total_sqft         NaN   object  \n",
       "bath          4.227697  float64  \n",
       "balcony       0.005857  float64  \n",
       "price         8.064469  float64  "
      ]
     },
     "execution_count": 5,
     "metadata": {},
     "output_type": "execute_result"
    }
   ],
   "source": [
    "#We will define a fuction to give basic stats information\n",
    "# Basic stats\n",
    "def basic_stats(df):\n",
    "    b = pd.DataFrame()\n",
    "    b['Missing value'] = df.isnull().sum()\n",
    "    b['N unique value'] = df.nunique()\n",
    "    b['min value'] = df.min()\n",
    "    b['max value'] = df.max()\n",
    "    b['Mean']=df.mean().T\n",
    "    b['Median']=df.median().T\n",
    "    b['Mode']=df.mode().T[0]\n",
    "    b['Skewness'] = df.skew()\n",
    "    b['dtype'] = df.dtypes\n",
    "    return b\n",
    "\n",
    "prime_stats=basic_stats(df1)\n",
    "prime_stats"
   ]
  },
  {
   "cell_type": "markdown",
   "metadata": {},
   "source": [
    "**From above its clear there are missing values in column size,location,society,total_sqft**\n"
   ]
  },
  {
   "cell_type": "code",
   "execution_count": 6,
   "metadata": {
    "scrolled": false
   },
   "outputs": [
    {
     "data": {
      "text/plain": [
       "array(['Super built-up  Area', 'Plot  Area', 'Built-up  Area',\n",
       "       'Carpet  Area'], dtype=object)"
      ]
     },
     "execution_count": 6,
     "metadata": {},
     "output_type": "execute_result"
    }
   ],
   "source": [
    "df1['area_type'].unique()"
   ]
  },
  {
   "cell_type": "code",
   "execution_count": 7,
   "metadata": {},
   "outputs": [
    {
     "data": {
      "text/plain": [
       "Super built-up  Area    8790\n",
       "Built-up  Area          2418\n",
       "Plot  Area              2025\n",
       "Carpet  Area              87\n",
       "Name: area_type, dtype: int64"
      ]
     },
     "execution_count": 7,
     "metadata": {},
     "output_type": "execute_result"
    }
   ],
   "source": [
    "df1['area_type'].value_counts()"
   ]
  },
  {
   "cell_type": "markdown",
   "metadata": {},
   "source": [
    "**Drop features that are not required to build our model**"
   ]
  },
  {
   "cell_type": "code",
   "execution_count": 8,
   "metadata": {
    "scrolled": false
   },
   "outputs": [
    {
     "data": {
      "text/plain": [
       "(13320, 5)"
      ]
     },
     "execution_count": 8,
     "metadata": {},
     "output_type": "execute_result"
    }
   ],
   "source": [
    "df2 = df1.drop(['area_type','society','balcony','availability'],axis='columns')\n",
    "df2.shape"
   ]
  },
  {
   "cell_type": "markdown",
   "metadata": {},
   "source": [
    "### Missing (NAN) values handling\n"
   ]
  },
  {
   "cell_type": "code",
   "execution_count": 9,
   "metadata": {},
   "outputs": [
    {
     "data": {
      "text/plain": [
       "location       1\n",
       "size          16\n",
       "total_sqft     0\n",
       "bath          73\n",
       "price          0\n",
       "dtype: int64"
      ]
     },
     "execution_count": 9,
     "metadata": {},
     "output_type": "execute_result"
    }
   ],
   "source": [
    "\n",
    "df2.isnull().sum()"
   ]
  },
  {
   "cell_type": "code",
   "execution_count": 10,
   "metadata": {},
   "outputs": [
    {
     "data": {
      "text/plain": [
       "(13320, 5)"
      ]
     },
     "execution_count": 10,
     "metadata": {},
     "output_type": "execute_result"
    }
   ],
   "source": [
    "df2.shape"
   ]
  },
  {
   "cell_type": "code",
   "execution_count": 11,
   "metadata": {},
   "outputs": [
    {
     "data": {
      "text/plain": [
       "location      0\n",
       "size          0\n",
       "total_sqft    0\n",
       "bath          0\n",
       "price         0\n",
       "dtype: int64"
      ]
     },
     "execution_count": 11,
     "metadata": {},
     "output_type": "execute_result"
    }
   ],
   "source": [
    "df3 = df2.dropna()\n",
    "df3.isnull().sum()"
   ]
  },
  {
   "cell_type": "code",
   "execution_count": 12,
   "metadata": {},
   "outputs": [
    {
     "data": {
      "text/plain": [
       "(13246, 5)"
      ]
     },
     "execution_count": 12,
     "metadata": {},
     "output_type": "execute_result"
    }
   ],
   "source": [
    "df3.shape"
   ]
  },
  {
   "cell_type": "markdown",
   "metadata": {},
   "source": [
    "### Feature Engineering"
   ]
  },
  {
   "cell_type": "markdown",
   "metadata": {},
   "source": [
    "**Add new feature(integer) for bhk (Bedrooms Hall Kitchen)**"
   ]
  },
  {
   "cell_type": "code",
   "execution_count": 13,
   "metadata": {},
   "outputs": [
    {
     "name": "stderr",
     "output_type": "stream",
     "text": [
      "C:\\Users\\91898\\anaconda3\\lib\\site-packages\\ipykernel_launcher.py:1: SettingWithCopyWarning: \n",
      "A value is trying to be set on a copy of a slice from a DataFrame.\n",
      "Try using .loc[row_indexer,col_indexer] = value instead\n",
      "\n",
      "See the caveats in the documentation: http://pandas.pydata.org/pandas-docs/stable/user_guide/indexing.html#returning-a-view-versus-a-copy\n",
      "  \"\"\"Entry point for launching an IPython kernel.\n"
     ]
    },
    {
     "data": {
      "text/plain": [
       "array([ 2,  4,  3,  6,  1,  8,  7,  5, 11,  9, 27, 10, 19, 16, 43, 14, 12,\n",
       "       13, 18], dtype=int64)"
      ]
     },
     "execution_count": 13,
     "metadata": {},
     "output_type": "execute_result"
    }
   ],
   "source": [
    "df3['bhk'] = df3['size'].apply(lambda x: int(x.split(' ')[0]))\n",
    "df3.bhk.unique()"
   ]
  },
  {
   "cell_type": "markdown",
   "metadata": {},
   "source": [
    "**Explore total_sqft feature**"
   ]
  },
  {
   "cell_type": "code",
   "execution_count": 14,
   "metadata": {},
   "outputs": [],
   "source": [
    "def is_float(x):\n",
    "    try:\n",
    "        float(x)\n",
    "    except:\n",
    "        return False\n",
    "    return True"
   ]
  },
  {
   "cell_type": "code",
   "execution_count": 15,
   "metadata": {
    "scrolled": true
   },
   "outputs": [
    {
     "data": {
      "text/html": [
       "<div>\n",
       "<style scoped>\n",
       "    .dataframe tbody tr th:only-of-type {\n",
       "        vertical-align: middle;\n",
       "    }\n",
       "\n",
       "    .dataframe tbody tr th {\n",
       "        vertical-align: top;\n",
       "    }\n",
       "\n",
       "    .dataframe thead th {\n",
       "        text-align: right;\n",
       "    }\n",
       "</style>\n",
       "<table border=\"1\" class=\"dataframe\">\n",
       "  <thead>\n",
       "    <tr style=\"text-align: right;\">\n",
       "      <th></th>\n",
       "      <th>location</th>\n",
       "      <th>size</th>\n",
       "      <th>total_sqft</th>\n",
       "      <th>bath</th>\n",
       "      <th>price</th>\n",
       "      <th>bhk</th>\n",
       "    </tr>\n",
       "  </thead>\n",
       "  <tbody>\n",
       "    <tr>\n",
       "      <th>30</th>\n",
       "      <td>Yelahanka</td>\n",
       "      <td>4 BHK</td>\n",
       "      <td>2100 - 2850</td>\n",
       "      <td>4.0</td>\n",
       "      <td>186.000</td>\n",
       "      <td>4</td>\n",
       "    </tr>\n",
       "    <tr>\n",
       "      <th>122</th>\n",
       "      <td>Hebbal</td>\n",
       "      <td>4 BHK</td>\n",
       "      <td>3067 - 8156</td>\n",
       "      <td>4.0</td>\n",
       "      <td>477.000</td>\n",
       "      <td>4</td>\n",
       "    </tr>\n",
       "    <tr>\n",
       "      <th>137</th>\n",
       "      <td>8th Phase JP Nagar</td>\n",
       "      <td>2 BHK</td>\n",
       "      <td>1042 - 1105</td>\n",
       "      <td>2.0</td>\n",
       "      <td>54.005</td>\n",
       "      <td>2</td>\n",
       "    </tr>\n",
       "    <tr>\n",
       "      <th>165</th>\n",
       "      <td>Sarjapur</td>\n",
       "      <td>2 BHK</td>\n",
       "      <td>1145 - 1340</td>\n",
       "      <td>2.0</td>\n",
       "      <td>43.490</td>\n",
       "      <td>2</td>\n",
       "    </tr>\n",
       "    <tr>\n",
       "      <th>188</th>\n",
       "      <td>KR Puram</td>\n",
       "      <td>2 BHK</td>\n",
       "      <td>1015 - 1540</td>\n",
       "      <td>2.0</td>\n",
       "      <td>56.800</td>\n",
       "      <td>2</td>\n",
       "    </tr>\n",
       "    <tr>\n",
       "      <th>410</th>\n",
       "      <td>Kengeri</td>\n",
       "      <td>1 BHK</td>\n",
       "      <td>34.46Sq. Meter</td>\n",
       "      <td>1.0</td>\n",
       "      <td>18.500</td>\n",
       "      <td>1</td>\n",
       "    </tr>\n",
       "    <tr>\n",
       "      <th>549</th>\n",
       "      <td>Hennur Road</td>\n",
       "      <td>2 BHK</td>\n",
       "      <td>1195 - 1440</td>\n",
       "      <td>2.0</td>\n",
       "      <td>63.770</td>\n",
       "      <td>2</td>\n",
       "    </tr>\n",
       "    <tr>\n",
       "      <th>648</th>\n",
       "      <td>Arekere</td>\n",
       "      <td>9 Bedroom</td>\n",
       "      <td>4125Perch</td>\n",
       "      <td>9.0</td>\n",
       "      <td>265.000</td>\n",
       "      <td>9</td>\n",
       "    </tr>\n",
       "    <tr>\n",
       "      <th>661</th>\n",
       "      <td>Yelahanka</td>\n",
       "      <td>2 BHK</td>\n",
       "      <td>1120 - 1145</td>\n",
       "      <td>2.0</td>\n",
       "      <td>48.130</td>\n",
       "      <td>2</td>\n",
       "    </tr>\n",
       "    <tr>\n",
       "      <th>672</th>\n",
       "      <td>Bettahalsoor</td>\n",
       "      <td>4 Bedroom</td>\n",
       "      <td>3090 - 5002</td>\n",
       "      <td>4.0</td>\n",
       "      <td>445.000</td>\n",
       "      <td>4</td>\n",
       "    </tr>\n",
       "  </tbody>\n",
       "</table>\n",
       "</div>"
      ],
      "text/plain": [
       "               location       size      total_sqft  bath    price  bhk\n",
       "30            Yelahanka      4 BHK     2100 - 2850   4.0  186.000    4\n",
       "122              Hebbal      4 BHK     3067 - 8156   4.0  477.000    4\n",
       "137  8th Phase JP Nagar      2 BHK     1042 - 1105   2.0   54.005    2\n",
       "165            Sarjapur      2 BHK     1145 - 1340   2.0   43.490    2\n",
       "188            KR Puram      2 BHK     1015 - 1540   2.0   56.800    2\n",
       "410             Kengeri      1 BHK  34.46Sq. Meter   1.0   18.500    1\n",
       "549         Hennur Road      2 BHK     1195 - 1440   2.0   63.770    2\n",
       "648             Arekere  9 Bedroom       4125Perch   9.0  265.000    9\n",
       "661           Yelahanka      2 BHK     1120 - 1145   2.0   48.130    2\n",
       "672        Bettahalsoor  4 Bedroom     3090 - 5002   4.0  445.000    4"
      ]
     },
     "execution_count": 15,
     "metadata": {},
     "output_type": "execute_result"
    }
   ],
   "source": [
    "df3[~df3['total_sqft'].apply(is_float)].head(10)"
   ]
  },
  {
   "cell_type": "markdown",
   "metadata": {},
   "source": [
    "Above shows that total_sqft can be a range (e.g. 2100-2850). For such case we can just take average of min and max value in the range. There are other cases such as 34.46Sq.Meter which one can convert to square ft using unit conversion. we will just drop such corner cases to keep things simple"
   ]
  },
  {
   "cell_type": "code",
   "execution_count": 16,
   "metadata": {},
   "outputs": [],
   "source": [
    "def convert_sqft_to_num(x):\n",
    "    tokens = x.split('-')\n",
    "    if len(tokens) == 2:\n",
    "        return (float(tokens[0])+float(tokens[1]))/2\n",
    "    try:\n",
    "        return float(x)\n",
    "    except:\n",
    "        return None    "
   ]
  },
  {
   "cell_type": "code",
   "execution_count": 17,
   "metadata": {},
   "outputs": [
    {
     "data": {
      "text/html": [
       "<div>\n",
       "<style scoped>\n",
       "    .dataframe tbody tr th:only-of-type {\n",
       "        vertical-align: middle;\n",
       "    }\n",
       "\n",
       "    .dataframe tbody tr th {\n",
       "        vertical-align: top;\n",
       "    }\n",
       "\n",
       "    .dataframe thead th {\n",
       "        text-align: right;\n",
       "    }\n",
       "</style>\n",
       "<table border=\"1\" class=\"dataframe\">\n",
       "  <thead>\n",
       "    <tr style=\"text-align: right;\">\n",
       "      <th></th>\n",
       "      <th>location</th>\n",
       "      <th>size</th>\n",
       "      <th>total_sqft</th>\n",
       "      <th>bath</th>\n",
       "      <th>price</th>\n",
       "      <th>bhk</th>\n",
       "    </tr>\n",
       "  </thead>\n",
       "  <tbody>\n",
       "    <tr>\n",
       "      <th>0</th>\n",
       "      <td>Electronic City Phase II</td>\n",
       "      <td>2 BHK</td>\n",
       "      <td>1056.0</td>\n",
       "      <td>2.0</td>\n",
       "      <td>39.07</td>\n",
       "      <td>2</td>\n",
       "    </tr>\n",
       "    <tr>\n",
       "      <th>1</th>\n",
       "      <td>Chikka Tirupathi</td>\n",
       "      <td>4 Bedroom</td>\n",
       "      <td>2600.0</td>\n",
       "      <td>5.0</td>\n",
       "      <td>120.00</td>\n",
       "      <td>4</td>\n",
       "    </tr>\n",
       "  </tbody>\n",
       "</table>\n",
       "</div>"
      ],
      "text/plain": [
       "                   location       size  total_sqft  bath   price  bhk\n",
       "0  Electronic City Phase II      2 BHK      1056.0   2.0   39.07    2\n",
       "1          Chikka Tirupathi  4 Bedroom      2600.0   5.0  120.00    4"
      ]
     },
     "execution_count": 17,
     "metadata": {},
     "output_type": "execute_result"
    }
   ],
   "source": [
    "df4 = df3.copy()\n",
    "df4.total_sqft = df4.total_sqft.apply(convert_sqft_to_num)\n",
    "df4 = df4[df4.total_sqft.notnull()]\n",
    "df4.head(2)"
   ]
  },
  {
   "cell_type": "markdown",
   "metadata": {},
   "source": [
    "**For below row, it shows total_sqft as 2475 which is an average of the range 2100-2850**"
   ]
  },
  {
   "cell_type": "code",
   "execution_count": 18,
   "metadata": {
    "scrolled": true
   },
   "outputs": [
    {
     "data": {
      "text/plain": [
       "location      Yelahanka\n",
       "size              4 BHK\n",
       "total_sqft         2475\n",
       "bath                  4\n",
       "price               186\n",
       "bhk                   4\n",
       "Name: 30, dtype: object"
      ]
     },
     "execution_count": 18,
     "metadata": {},
     "output_type": "execute_result"
    }
   ],
   "source": [
    "df4.loc[30]"
   ]
  },
  {
   "cell_type": "code",
   "execution_count": 19,
   "metadata": {},
   "outputs": [
    {
     "data": {
      "text/plain": [
       "2475.0"
      ]
     },
     "execution_count": 19,
     "metadata": {},
     "output_type": "execute_result"
    }
   ],
   "source": [
    "(2100+2850)/2"
   ]
  },
  {
   "cell_type": "markdown",
   "metadata": {},
   "source": [
    "### Feature Engineering"
   ]
  },
  {
   "cell_type": "markdown",
   "metadata": {},
   "source": [
    "**Add new feature called price per square feet**"
   ]
  },
  {
   "cell_type": "code",
   "execution_count": 20,
   "metadata": {
    "scrolled": false
   },
   "outputs": [
    {
     "data": {
      "text/html": [
       "<div>\n",
       "<style scoped>\n",
       "    .dataframe tbody tr th:only-of-type {\n",
       "        vertical-align: middle;\n",
       "    }\n",
       "\n",
       "    .dataframe tbody tr th {\n",
       "        vertical-align: top;\n",
       "    }\n",
       "\n",
       "    .dataframe thead th {\n",
       "        text-align: right;\n",
       "    }\n",
       "</style>\n",
       "<table border=\"1\" class=\"dataframe\">\n",
       "  <thead>\n",
       "    <tr style=\"text-align: right;\">\n",
       "      <th></th>\n",
       "      <th>location</th>\n",
       "      <th>size</th>\n",
       "      <th>total_sqft</th>\n",
       "      <th>bath</th>\n",
       "      <th>price</th>\n",
       "      <th>bhk</th>\n",
       "      <th>price_per_sqft</th>\n",
       "    </tr>\n",
       "  </thead>\n",
       "  <tbody>\n",
       "    <tr>\n",
       "      <th>0</th>\n",
       "      <td>Electronic City Phase II</td>\n",
       "      <td>2 BHK</td>\n",
       "      <td>1056.0</td>\n",
       "      <td>2.0</td>\n",
       "      <td>39.07</td>\n",
       "      <td>2</td>\n",
       "      <td>3699.810606</td>\n",
       "    </tr>\n",
       "    <tr>\n",
       "      <th>1</th>\n",
       "      <td>Chikka Tirupathi</td>\n",
       "      <td>4 Bedroom</td>\n",
       "      <td>2600.0</td>\n",
       "      <td>5.0</td>\n",
       "      <td>120.00</td>\n",
       "      <td>4</td>\n",
       "      <td>4615.384615</td>\n",
       "    </tr>\n",
       "    <tr>\n",
       "      <th>2</th>\n",
       "      <td>Uttarahalli</td>\n",
       "      <td>3 BHK</td>\n",
       "      <td>1440.0</td>\n",
       "      <td>2.0</td>\n",
       "      <td>62.00</td>\n",
       "      <td>3</td>\n",
       "      <td>4305.555556</td>\n",
       "    </tr>\n",
       "    <tr>\n",
       "      <th>3</th>\n",
       "      <td>Lingadheeranahalli</td>\n",
       "      <td>3 BHK</td>\n",
       "      <td>1521.0</td>\n",
       "      <td>3.0</td>\n",
       "      <td>95.00</td>\n",
       "      <td>3</td>\n",
       "      <td>6245.890861</td>\n",
       "    </tr>\n",
       "    <tr>\n",
       "      <th>4</th>\n",
       "      <td>Kothanur</td>\n",
       "      <td>2 BHK</td>\n",
       "      <td>1200.0</td>\n",
       "      <td>2.0</td>\n",
       "      <td>51.00</td>\n",
       "      <td>2</td>\n",
       "      <td>4250.000000</td>\n",
       "    </tr>\n",
       "  </tbody>\n",
       "</table>\n",
       "</div>"
      ],
      "text/plain": [
       "                   location       size  total_sqft  bath   price  bhk  \\\n",
       "0  Electronic City Phase II      2 BHK      1056.0   2.0   39.07    2   \n",
       "1          Chikka Tirupathi  4 Bedroom      2600.0   5.0  120.00    4   \n",
       "2               Uttarahalli      3 BHK      1440.0   2.0   62.00    3   \n",
       "3        Lingadheeranahalli      3 BHK      1521.0   3.0   95.00    3   \n",
       "4                  Kothanur      2 BHK      1200.0   2.0   51.00    2   \n",
       "\n",
       "   price_per_sqft  \n",
       "0     3699.810606  \n",
       "1     4615.384615  \n",
       "2     4305.555556  \n",
       "3     6245.890861  \n",
       "4     4250.000000  "
      ]
     },
     "execution_count": 20,
     "metadata": {},
     "output_type": "execute_result"
    }
   ],
   "source": [
    "df5 = df4.copy()\n",
    "df5['price_per_sqft'] = df5['price']*100000/df5['total_sqft']\n",
    "df5.head()"
   ]
  },
  {
   "cell_type": "code",
   "execution_count": 21,
   "metadata": {
    "scrolled": true
   },
   "outputs": [
    {
     "data": {
      "text/plain": [
       "count    1.320000e+04\n",
       "mean     7.920759e+03\n",
       "std      1.067272e+05\n",
       "min      2.678298e+02\n",
       "25%      4.267701e+03\n",
       "50%      5.438331e+03\n",
       "75%      7.317073e+03\n",
       "max      1.200000e+07\n",
       "Name: price_per_sqft, dtype: float64"
      ]
     },
     "execution_count": 21,
     "metadata": {},
     "output_type": "execute_result"
    }
   ],
   "source": [
    "df5_stats = df5['price_per_sqft'].describe()\n",
    "df5_stats"
   ]
  },
  {
   "cell_type": "code",
   "execution_count": 22,
   "metadata": {},
   "outputs": [],
   "source": [
    "df5.to_csv(\"bhp.csv\",index=False)"
   ]
  },
  {
   "cell_type": "markdown",
   "metadata": {},
   "source": [
    "**Examine locations which is a categorical variable. We need to apply dimensionality reduction technique here to reduce number of locations**"
   ]
  },
  {
   "cell_type": "code",
   "execution_count": 23,
   "metadata": {},
   "outputs": [
    {
     "data": {
      "text/plain": [
       "Whitefield              533\n",
       "Sarjapur  Road          392\n",
       "Electronic City         304\n",
       "Kanakpura Road          264\n",
       "Thanisandra             235\n",
       "                       ... \n",
       "Double Road               1\n",
       "Neelasandra               1\n",
       "Attiguppe                 1\n",
       "1A Block Koramangala      1\n",
       "Near ullas theater        1\n",
       "Name: location, Length: 1287, dtype: int64"
      ]
     },
     "execution_count": 23,
     "metadata": {},
     "output_type": "execute_result"
    }
   ],
   "source": [
    "df5.location = df5.location.apply(lambda x: x.strip())\n",
    "location_stats = df5['location'].value_counts(ascending=False)\n",
    "location_stats"
   ]
  },
  {
   "cell_type": "code",
   "execution_count": 24,
   "metadata": {},
   "outputs": [
    {
     "data": {
      "text/plain": [
       "13200"
      ]
     },
     "execution_count": 24,
     "metadata": {},
     "output_type": "execute_result"
    }
   ],
   "source": [
    "location_stats.values.sum()"
   ]
  },
  {
   "cell_type": "code",
   "execution_count": 25,
   "metadata": {
    "scrolled": true
   },
   "outputs": [
    {
     "data": {
      "text/plain": [
       "240"
      ]
     },
     "execution_count": 25,
     "metadata": {},
     "output_type": "execute_result"
    }
   ],
   "source": [
    "len(location_stats[location_stats>10])"
   ]
  },
  {
   "cell_type": "code",
   "execution_count": 26,
   "metadata": {},
   "outputs": [
    {
     "data": {
      "text/plain": [
       "1287"
      ]
     },
     "execution_count": 26,
     "metadata": {},
     "output_type": "execute_result"
    }
   ],
   "source": [
    "len(location_stats)"
   ]
  },
  {
   "cell_type": "code",
   "execution_count": 27,
   "metadata": {},
   "outputs": [
    {
     "data": {
      "text/plain": [
       "1047"
      ]
     },
     "execution_count": 27,
     "metadata": {},
     "output_type": "execute_result"
    }
   ],
   "source": [
    "len(location_stats[location_stats<=10])"
   ]
  },
  {
   "cell_type": "markdown",
   "metadata": {},
   "source": [
    "### Dimensionality Reduction"
   ]
  },
  {
   "cell_type": "markdown",
   "metadata": {},
   "source": [
    "**Any location having less than 10 data points should be tagged as \"other\" location. This way number of categories can be reduced by huge amount. Later on when we do one hot encoding, it will help us with having fewer dummy columns**"
   ]
  },
  {
   "cell_type": "code",
   "execution_count": 28,
   "metadata": {},
   "outputs": [
    {
     "data": {
      "text/plain": [
       "Naganathapura           10\n",
       "Basapura                10\n",
       "Nagappa Reddy Layout    10\n",
       "Kalkere                 10\n",
       "BTM 1st Stage           10\n",
       "                        ..\n",
       "Double Road              1\n",
       "Neelasandra              1\n",
       "Attiguppe                1\n",
       "1A Block Koramangala     1\n",
       "Near ullas theater       1\n",
       "Name: location, Length: 1047, dtype: int64"
      ]
     },
     "execution_count": 28,
     "metadata": {},
     "output_type": "execute_result"
    }
   ],
   "source": [
    "location_stats_less_than_10 = location_stats[location_stats<=10]\n",
    "location_stats_less_than_10"
   ]
  },
  {
   "cell_type": "code",
   "execution_count": 29,
   "metadata": {},
   "outputs": [
    {
     "data": {
      "text/plain": [
       "1287"
      ]
     },
     "execution_count": 29,
     "metadata": {},
     "output_type": "execute_result"
    }
   ],
   "source": [
    "len(df5.location.unique())"
   ]
  },
  {
   "cell_type": "code",
   "execution_count": 30,
   "metadata": {},
   "outputs": [
    {
     "data": {
      "text/plain": [
       "241"
      ]
     },
     "execution_count": 30,
     "metadata": {},
     "output_type": "execute_result"
    }
   ],
   "source": [
    "df5.location = df5.location.apply(lambda x: 'other' if x in location_stats_less_than_10 else x)\n",
    "len(df5.location.unique())"
   ]
  },
  {
   "cell_type": "code",
   "execution_count": 31,
   "metadata": {
    "scrolled": true
   },
   "outputs": [
    {
     "data": {
      "text/html": [
       "<div>\n",
       "<style scoped>\n",
       "    .dataframe tbody tr th:only-of-type {\n",
       "        vertical-align: middle;\n",
       "    }\n",
       "\n",
       "    .dataframe tbody tr th {\n",
       "        vertical-align: top;\n",
       "    }\n",
       "\n",
       "    .dataframe thead th {\n",
       "        text-align: right;\n",
       "    }\n",
       "</style>\n",
       "<table border=\"1\" class=\"dataframe\">\n",
       "  <thead>\n",
       "    <tr style=\"text-align: right;\">\n",
       "      <th></th>\n",
       "      <th>location</th>\n",
       "      <th>size</th>\n",
       "      <th>total_sqft</th>\n",
       "      <th>bath</th>\n",
       "      <th>price</th>\n",
       "      <th>bhk</th>\n",
       "      <th>price_per_sqft</th>\n",
       "    </tr>\n",
       "  </thead>\n",
       "  <tbody>\n",
       "    <tr>\n",
       "      <th>0</th>\n",
       "      <td>Electronic City Phase II</td>\n",
       "      <td>2 BHK</td>\n",
       "      <td>1056.0</td>\n",
       "      <td>2.0</td>\n",
       "      <td>39.07</td>\n",
       "      <td>2</td>\n",
       "      <td>3699.810606</td>\n",
       "    </tr>\n",
       "    <tr>\n",
       "      <th>1</th>\n",
       "      <td>Chikka Tirupathi</td>\n",
       "      <td>4 Bedroom</td>\n",
       "      <td>2600.0</td>\n",
       "      <td>5.0</td>\n",
       "      <td>120.00</td>\n",
       "      <td>4</td>\n",
       "      <td>4615.384615</td>\n",
       "    </tr>\n",
       "    <tr>\n",
       "      <th>2</th>\n",
       "      <td>Uttarahalli</td>\n",
       "      <td>3 BHK</td>\n",
       "      <td>1440.0</td>\n",
       "      <td>2.0</td>\n",
       "      <td>62.00</td>\n",
       "      <td>3</td>\n",
       "      <td>4305.555556</td>\n",
       "    </tr>\n",
       "    <tr>\n",
       "      <th>3</th>\n",
       "      <td>Lingadheeranahalli</td>\n",
       "      <td>3 BHK</td>\n",
       "      <td>1521.0</td>\n",
       "      <td>3.0</td>\n",
       "      <td>95.00</td>\n",
       "      <td>3</td>\n",
       "      <td>6245.890861</td>\n",
       "    </tr>\n",
       "    <tr>\n",
       "      <th>4</th>\n",
       "      <td>Kothanur</td>\n",
       "      <td>2 BHK</td>\n",
       "      <td>1200.0</td>\n",
       "      <td>2.0</td>\n",
       "      <td>51.00</td>\n",
       "      <td>2</td>\n",
       "      <td>4250.000000</td>\n",
       "    </tr>\n",
       "    <tr>\n",
       "      <th>5</th>\n",
       "      <td>Whitefield</td>\n",
       "      <td>2 BHK</td>\n",
       "      <td>1170.0</td>\n",
       "      <td>2.0</td>\n",
       "      <td>38.00</td>\n",
       "      <td>2</td>\n",
       "      <td>3247.863248</td>\n",
       "    </tr>\n",
       "    <tr>\n",
       "      <th>6</th>\n",
       "      <td>Old Airport Road</td>\n",
       "      <td>4 BHK</td>\n",
       "      <td>2732.0</td>\n",
       "      <td>4.0</td>\n",
       "      <td>204.00</td>\n",
       "      <td>4</td>\n",
       "      <td>7467.057101</td>\n",
       "    </tr>\n",
       "    <tr>\n",
       "      <th>7</th>\n",
       "      <td>Rajaji Nagar</td>\n",
       "      <td>4 BHK</td>\n",
       "      <td>3300.0</td>\n",
       "      <td>4.0</td>\n",
       "      <td>600.00</td>\n",
       "      <td>4</td>\n",
       "      <td>18181.818182</td>\n",
       "    </tr>\n",
       "    <tr>\n",
       "      <th>8</th>\n",
       "      <td>Marathahalli</td>\n",
       "      <td>3 BHK</td>\n",
       "      <td>1310.0</td>\n",
       "      <td>3.0</td>\n",
       "      <td>63.25</td>\n",
       "      <td>3</td>\n",
       "      <td>4828.244275</td>\n",
       "    </tr>\n",
       "    <tr>\n",
       "      <th>9</th>\n",
       "      <td>other</td>\n",
       "      <td>6 Bedroom</td>\n",
       "      <td>1020.0</td>\n",
       "      <td>6.0</td>\n",
       "      <td>370.00</td>\n",
       "      <td>6</td>\n",
       "      <td>36274.509804</td>\n",
       "    </tr>\n",
       "  </tbody>\n",
       "</table>\n",
       "</div>"
      ],
      "text/plain": [
       "                   location       size  total_sqft  bath   price  bhk  \\\n",
       "0  Electronic City Phase II      2 BHK      1056.0   2.0   39.07    2   \n",
       "1          Chikka Tirupathi  4 Bedroom      2600.0   5.0  120.00    4   \n",
       "2               Uttarahalli      3 BHK      1440.0   2.0   62.00    3   \n",
       "3        Lingadheeranahalli      3 BHK      1521.0   3.0   95.00    3   \n",
       "4                  Kothanur      2 BHK      1200.0   2.0   51.00    2   \n",
       "5                Whitefield      2 BHK      1170.0   2.0   38.00    2   \n",
       "6          Old Airport Road      4 BHK      2732.0   4.0  204.00    4   \n",
       "7              Rajaji Nagar      4 BHK      3300.0   4.0  600.00    4   \n",
       "8              Marathahalli      3 BHK      1310.0   3.0   63.25    3   \n",
       "9                     other  6 Bedroom      1020.0   6.0  370.00    6   \n",
       "\n",
       "   price_per_sqft  \n",
       "0     3699.810606  \n",
       "1     4615.384615  \n",
       "2     4305.555556  \n",
       "3     6245.890861  \n",
       "4     4250.000000  \n",
       "5     3247.863248  \n",
       "6     7467.057101  \n",
       "7    18181.818182  \n",
       "8     4828.244275  \n",
       "9    36274.509804  "
      ]
     },
     "execution_count": 31,
     "metadata": {},
     "output_type": "execute_result"
    }
   ],
   "source": [
    "df5.head(10)"
   ]
  },
  {
   "cell_type": "markdown",
   "metadata": {},
   "source": [
    "### Outlier Removal Using Business Logic"
   ]
  },
  {
   "cell_type": "markdown",
   "metadata": {},
   "source": [
    "**As a data scientist when you have a conversation with your business manager (who has expertise in real estate), he will tell you that normally square ft per bedroom is 300 (i.e. 2 bhk apartment is minimum 600 sqft. If you have for example 400 sqft apartment with 2 bhk than that seems suspicious and can be removed as an outlier. We will remove such outliers by keeping our minimum thresold per bhk to be 300 sqft**"
   ]
  },
  {
   "cell_type": "code",
   "execution_count": 32,
   "metadata": {
    "scrolled": true
   },
   "outputs": [
    {
     "data": {
      "text/html": [
       "<div>\n",
       "<style scoped>\n",
       "    .dataframe tbody tr th:only-of-type {\n",
       "        vertical-align: middle;\n",
       "    }\n",
       "\n",
       "    .dataframe tbody tr th {\n",
       "        vertical-align: top;\n",
       "    }\n",
       "\n",
       "    .dataframe thead th {\n",
       "        text-align: right;\n",
       "    }\n",
       "</style>\n",
       "<table border=\"1\" class=\"dataframe\">\n",
       "  <thead>\n",
       "    <tr style=\"text-align: right;\">\n",
       "      <th></th>\n",
       "      <th>location</th>\n",
       "      <th>size</th>\n",
       "      <th>total_sqft</th>\n",
       "      <th>bath</th>\n",
       "      <th>price</th>\n",
       "      <th>bhk</th>\n",
       "      <th>price_per_sqft</th>\n",
       "    </tr>\n",
       "  </thead>\n",
       "  <tbody>\n",
       "    <tr>\n",
       "      <th>9</th>\n",
       "      <td>other</td>\n",
       "      <td>6 Bedroom</td>\n",
       "      <td>1020.0</td>\n",
       "      <td>6.0</td>\n",
       "      <td>370.0</td>\n",
       "      <td>6</td>\n",
       "      <td>36274.509804</td>\n",
       "    </tr>\n",
       "    <tr>\n",
       "      <th>45</th>\n",
       "      <td>HSR Layout</td>\n",
       "      <td>8 Bedroom</td>\n",
       "      <td>600.0</td>\n",
       "      <td>9.0</td>\n",
       "      <td>200.0</td>\n",
       "      <td>8</td>\n",
       "      <td>33333.333333</td>\n",
       "    </tr>\n",
       "    <tr>\n",
       "      <th>58</th>\n",
       "      <td>Murugeshpalya</td>\n",
       "      <td>6 Bedroom</td>\n",
       "      <td>1407.0</td>\n",
       "      <td>4.0</td>\n",
       "      <td>150.0</td>\n",
       "      <td>6</td>\n",
       "      <td>10660.980810</td>\n",
       "    </tr>\n",
       "    <tr>\n",
       "      <th>68</th>\n",
       "      <td>Devarachikkanahalli</td>\n",
       "      <td>8 Bedroom</td>\n",
       "      <td>1350.0</td>\n",
       "      <td>7.0</td>\n",
       "      <td>85.0</td>\n",
       "      <td>8</td>\n",
       "      <td>6296.296296</td>\n",
       "    </tr>\n",
       "    <tr>\n",
       "      <th>70</th>\n",
       "      <td>other</td>\n",
       "      <td>3 Bedroom</td>\n",
       "      <td>500.0</td>\n",
       "      <td>3.0</td>\n",
       "      <td>100.0</td>\n",
       "      <td>3</td>\n",
       "      <td>20000.000000</td>\n",
       "    </tr>\n",
       "  </tbody>\n",
       "</table>\n",
       "</div>"
      ],
      "text/plain": [
       "               location       size  total_sqft  bath  price  bhk  \\\n",
       "9                 other  6 Bedroom      1020.0   6.0  370.0    6   \n",
       "45           HSR Layout  8 Bedroom       600.0   9.0  200.0    8   \n",
       "58        Murugeshpalya  6 Bedroom      1407.0   4.0  150.0    6   \n",
       "68  Devarachikkanahalli  8 Bedroom      1350.0   7.0   85.0    8   \n",
       "70                other  3 Bedroom       500.0   3.0  100.0    3   \n",
       "\n",
       "    price_per_sqft  \n",
       "9     36274.509804  \n",
       "45    33333.333333  \n",
       "58    10660.980810  \n",
       "68     6296.296296  \n",
       "70    20000.000000  "
      ]
     },
     "execution_count": 32,
     "metadata": {},
     "output_type": "execute_result"
    }
   ],
   "source": [
    "df5[df5.total_sqft/df5.bhk<300].head()"
   ]
  },
  {
   "cell_type": "markdown",
   "metadata": {},
   "source": [
    "**Check above data points. We have 6 bhk apartment with 1020 sqft. Another one is 8 bhk and total sqft is 600. These are clear data errors that can be removed safely**"
   ]
  },
  {
   "cell_type": "code",
   "execution_count": 33,
   "metadata": {},
   "outputs": [
    {
     "data": {
      "text/plain": [
       "(13200, 7)"
      ]
     },
     "execution_count": 33,
     "metadata": {},
     "output_type": "execute_result"
    }
   ],
   "source": [
    "df5.shape"
   ]
  },
  {
   "cell_type": "code",
   "execution_count": 34,
   "metadata": {
    "scrolled": true
   },
   "outputs": [
    {
     "data": {
      "text/plain": [
       "(12456, 7)"
      ]
     },
     "execution_count": 34,
     "metadata": {},
     "output_type": "execute_result"
    }
   ],
   "source": [
    "df6 = df5[~(df5.total_sqft/df5.bhk<300)]\n",
    "df6.shape"
   ]
  },
  {
   "cell_type": "markdown",
   "metadata": {},
   "source": [
    "### Outlier Removal Using Standard Deviation and Mean"
   ]
  },
  {
   "cell_type": "code",
   "execution_count": 35,
   "metadata": {},
   "outputs": [
    {
     "data": {
      "text/plain": [
       "count     12456.000000\n",
       "mean       6308.502826\n",
       "std        4168.127339\n",
       "min         267.829813\n",
       "25%        4210.526316\n",
       "50%        5294.117647\n",
       "75%        6916.666667\n",
       "max      176470.588235\n",
       "Name: price_per_sqft, dtype: float64"
      ]
     },
     "execution_count": 35,
     "metadata": {},
     "output_type": "execute_result"
    }
   ],
   "source": [
    "df6.price_per_sqft.describe()"
   ]
  },
  {
   "cell_type": "markdown",
   "metadata": {},
   "source": [
    "**Here we find that min price per sqft is 267 rs/sqft whereas max is 176470, this shows a wide variation in property prices. We should remove outliers per location using mean and one standard deviation**"
   ]
  },
  {
   "cell_type": "code",
   "execution_count": 36,
   "metadata": {},
   "outputs": [
    {
     "data": {
      "text/plain": [
       "(10242, 7)"
      ]
     },
     "execution_count": 36,
     "metadata": {},
     "output_type": "execute_result"
    }
   ],
   "source": [
    "def remove_pps_outliers(df):\n",
    "    df_out = pd.DataFrame()\n",
    "    for key, subdf in df.groupby('location'):\n",
    "        m = np.mean(subdf.price_per_sqft)\n",
    "        st = np.std(subdf.price_per_sqft)\n",
    "        reduced_df = subdf[(subdf.price_per_sqft>(m-st)) & (subdf.price_per_sqft<=(m+st))]\n",
    "        df_out = pd.concat([df_out,reduced_df],ignore_index=True)\n",
    "    return df_out\n",
    "df7 = remove_pps_outliers(df6)\n",
    "df7.shape"
   ]
  },
  {
   "cell_type": "code",
   "execution_count": 37,
   "metadata": {
    "scrolled": false
   },
   "outputs": [
    {
     "data": {
      "text/plain": [
       "<seaborn.axisgrid.PairGrid at 0x1ffc1e5af88>"
      ]
     },
     "execution_count": 37,
     "metadata": {},
     "output_type": "execute_result"
    },
    {
     "data": {
      "image/png": "[encoded data removed]",
      "text/plain": [
       "<Figure size 900x900 with 30 Axes>"
      ]
     },
     "metadata": {
      "needs_background": "light"
     },
     "output_type": "display_data"
    }
   ],
   "source": [
    "import seaborn as sns\n",
    "sns.pairplot(df7)"
   ]
  },
  {
   "cell_type": "markdown",
   "metadata": {},
   "source": [
    "**Let's check if for a given location how does the 2 BHK and 3 BHK property prices look like**"
   ]
  },
  {
   "cell_type": "code",
   "execution_count": 38,
   "metadata": {},
   "outputs": [
    {
     "data": {
      "image/png": "[encoded data removed]",
      "text/plain": [
       "<Figure size 720x432 with 1 Axes>"
      ]
     },
     "metadata": {
      "needs_background": "light"
     },
     "output_type": "display_data"
    }
   ],
   "source": [
    "def plot_scatter_chart(df,location):\n",
    "    bhk2 = df[(df.location==location) & (df.bhk==2)]\n",
    "    bhk3 = df[(df.location==location) & (df.bhk==3)]\n",
    "    matplotlib.rcParams['figure.figsize'] = (10,6)\n",
    "    plt.scatter(bhk2.total_sqft,bhk2.price,color='blue',label='2 BHK', s=50)\n",
    "    plt.scatter(bhk3.total_sqft,bhk3.price,marker='+', color='green',label='3 BHK', s=50)\n",
    "    plt.xlabel(\"Total Square Feet Area\")\n",
    "    plt.ylabel(\"Price (Lakh Indian Rupees)\")\n",
    "    plt.title(location)\n",
    "    plt.legend()\n",
    "    \n",
    "plot_scatter_chart(df7,\"Rajaji Nagar\")"
   ]
  },
  {
   "cell_type": "code",
   "execution_count": 39,
   "metadata": {},
   "outputs": [
    {
     "data": {
      "image/png": "[encoded data removed]",
      "text/plain": [
       "<Figure size 720x432 with 1 Axes>"
      ]
     },
     "metadata": {
      "needs_background": "light"
     },
     "output_type": "display_data"
    }
   ],
   "source": [
    "plot_scatter_chart(df7,\"Hebbal\")"
   ]
  },
  {
   "cell_type": "markdown",
   "metadata": {},
   "source": [
    "**We should also remove properties where for same location, the price of (for example) 3 bedroom apartment is less than 2 bedroom apartment (with same square ft area).\n",
    "Now we can remove those 2 BHK apartments whose price_per_sqft is less than mean price_per_sqft of 1 BHK apartment**"
   ]
  },
  {
   "cell_type": "code",
   "execution_count": 40,
   "metadata": {},
   "outputs": [
    {
     "data": {
      "text/plain": [
       "(7317, 7)"
      ]
     },
     "execution_count": 40,
     "metadata": {},
     "output_type": "execute_result"
    }
   ],
   "source": [
    "def remove_bhk_outliers(df):\n",
    "    exclude_indices = np.array([])\n",
    "    for location, location_df in df.groupby('location'):\n",
    "        bhk_stats = {}\n",
    "        for bhk, bhk_df in location_df.groupby('bhk'):\n",
    "            bhk_stats[bhk] = {\n",
    "                'mean': np.mean(bhk_df.price_per_sqft),\n",
    "                'std': np.std(bhk_df.price_per_sqft),\n",
    "                'count': bhk_df.shape[0]\n",
    "            }\n",
    "        for bhk, bhk_df in location_df.groupby('bhk'):\n",
    "            stats = bhk_stats.get(bhk-1)\n",
    "            if stats and stats['count']>5:\n",
    "                exclude_indices = np.append(exclude_indices, bhk_df[bhk_df.price_per_sqft<(stats['mean'])].index.values)\n",
    "    return df.drop(exclude_indices,axis='index')\n",
    "df8 = remove_bhk_outliers(df7)\n",
    "# df8 = df7.copy()\n",
    "df8.shape"
   ]
  },
  {
   "cell_type": "markdown",
   "metadata": {},
   "source": [
    "**Plot same scatter chart again to visualize price_per_sqft for 2 BHK and 3 BHK properties**"
   ]
  },
  {
   "cell_type": "code",
   "execution_count": 41,
   "metadata": {},
   "outputs": [
    {
     "data": {
      "image/png": "[encoded data removed]",
      "text/plain": [
       "<Figure size 720x432 with 1 Axes>"
      ]
     },
     "metadata": {
      "needs_background": "light"
     },
     "output_type": "display_data"
    }
   ],
   "source": [
    "plot_scatter_chart(df8,\"Rajaji Nagar\")"
   ]
  },
  {
   "cell_type": "code",
   "execution_count": 42,
   "metadata": {
    "scrolled": false
   },
   "outputs": [
    {
     "data": {
      "image/png": "[encoded data removed]",
      "text/plain": [
       "<Figure size 720x432 with 1 Axes>"
      ]
     },
     "metadata": {
      "needs_background": "light"
     },
     "output_type": "display_data"
    }
   ],
   "source": [
    "plot_scatter_chart(df8,\"Hebbal\")"
   ]
  },
  {
   "cell_type": "code",
   "execution_count": 43,
   "metadata": {},
   "outputs": [
    {
     "data": {
      "text/plain": [
       "Text(0, 0.5, 'Count')"
      ]
     },
     "execution_count": 43,
     "metadata": {},
     "output_type": "execute_result"
    },
    {
     "data": {
      "image/png": "[encoded data removed]",
      "text/plain": [
       "<Figure size 864x576 with 1 Axes>"
      ]
     },
     "metadata": {
      "needs_background": "light"
     },
     "output_type": "display_data"
    }
   ],
   "source": [
    "import matplotlib\n",
    "matplotlib.rcParams[\"figure.figsize\"] = (12,8)\n",
    "plt.hist(df8.price_per_sqft,rwidth=0.8)\n",
    "plt.xlabel(\"Price Per Square Feet\")\n",
    "plt.ylabel(\"Count\")"
   ]
  },
  {
   "cell_type": "markdown",
   "metadata": {},
   "source": [
    "### Outlier Removal Using Bathrooms Feature</h2>"
   ]
  },
  {
   "cell_type": "code",
   "execution_count": 44,
   "metadata": {},
   "outputs": [
    {
     "data": {
      "text/plain": [
       "array([ 4.,  3.,  2.,  5.,  8.,  1.,  6.,  7.,  9., 12., 16., 13.])"
      ]
     },
     "execution_count": 44,
     "metadata": {},
     "output_type": "execute_result"
    }
   ],
   "source": [
    "df8.bath.unique()"
   ]
  },
  {
   "cell_type": "code",
   "execution_count": 45,
   "metadata": {},
   "outputs": [
    {
     "data": {
      "text/plain": [
       "Text(0, 0.5, 'Count')"
      ]
     },
     "execution_count": 45,
     "metadata": {},
     "output_type": "execute_result"
    },
    {
     "data": {
      "image/png": "[encoded data removed]",
      "text/plain": [
       "<Figure size 864x576 with 1 Axes>"
      ]
     },
     "metadata": {
      "needs_background": "light"
     },
     "output_type": "display_data"
    }
   ],
   "source": [
    "plt.hist(df8.bath,rwidth=0.8)\n",
    "plt.xlabel(\"Number of bathrooms\")\n",
    "plt.ylabel(\"Count\")"
   ]
  },
  {
   "cell_type": "code",
   "execution_count": 46,
   "metadata": {},
   "outputs": [
    {
     "data": {
      "text/html": [
       "<div>\n",
       "<style scoped>\n",
       "    .dataframe tbody tr th:only-of-type {\n",
       "        vertical-align: middle;\n",
       "    }\n",
       "\n",
       "    .dataframe tbody tr th {\n",
       "        vertical-align: top;\n",
       "    }\n",
       "\n",
       "    .dataframe thead th {\n",
       "        text-align: right;\n",
       "    }\n",
       "</style>\n",
       "<table border=\"1\" class=\"dataframe\">\n",
       "  <thead>\n",
       "    <tr style=\"text-align: right;\">\n",
       "      <th></th>\n",
       "      <th>location</th>\n",
       "      <th>size</th>\n",
       "      <th>total_sqft</th>\n",
       "      <th>bath</th>\n",
       "      <th>price</th>\n",
       "      <th>bhk</th>\n",
       "      <th>price_per_sqft</th>\n",
       "    </tr>\n",
       "  </thead>\n",
       "  <tbody>\n",
       "    <tr>\n",
       "      <th>5277</th>\n",
       "      <td>Neeladri Nagar</td>\n",
       "      <td>10 BHK</td>\n",
       "      <td>4000.0</td>\n",
       "      <td>12.0</td>\n",
       "      <td>160.0</td>\n",
       "      <td>10</td>\n",
       "      <td>4000.000000</td>\n",
       "    </tr>\n",
       "    <tr>\n",
       "      <th>8483</th>\n",
       "      <td>other</td>\n",
       "      <td>10 BHK</td>\n",
       "      <td>12000.0</td>\n",
       "      <td>12.0</td>\n",
       "      <td>525.0</td>\n",
       "      <td>10</td>\n",
       "      <td>4375.000000</td>\n",
       "    </tr>\n",
       "    <tr>\n",
       "      <th>8572</th>\n",
       "      <td>other</td>\n",
       "      <td>16 BHK</td>\n",
       "      <td>10000.0</td>\n",
       "      <td>16.0</td>\n",
       "      <td>550.0</td>\n",
       "      <td>16</td>\n",
       "      <td>5500.000000</td>\n",
       "    </tr>\n",
       "    <tr>\n",
       "      <th>9306</th>\n",
       "      <td>other</td>\n",
       "      <td>11 BHK</td>\n",
       "      <td>6000.0</td>\n",
       "      <td>12.0</td>\n",
       "      <td>150.0</td>\n",
       "      <td>11</td>\n",
       "      <td>2500.000000</td>\n",
       "    </tr>\n",
       "    <tr>\n",
       "      <th>9637</th>\n",
       "      <td>other</td>\n",
       "      <td>13 BHK</td>\n",
       "      <td>5425.0</td>\n",
       "      <td>13.0</td>\n",
       "      <td>275.0</td>\n",
       "      <td>13</td>\n",
       "      <td>5069.124424</td>\n",
       "    </tr>\n",
       "  </tbody>\n",
       "</table>\n",
       "</div>"
      ],
      "text/plain": [
       "            location    size  total_sqft  bath  price  bhk  price_per_sqft\n",
       "5277  Neeladri Nagar  10 BHK      4000.0  12.0  160.0   10     4000.000000\n",
       "8483           other  10 BHK     12000.0  12.0  525.0   10     4375.000000\n",
       "8572           other  16 BHK     10000.0  16.0  550.0   16     5500.000000\n",
       "9306           other  11 BHK      6000.0  12.0  150.0   11     2500.000000\n",
       "9637           other  13 BHK      5425.0  13.0  275.0   13     5069.124424"
      ]
     },
     "execution_count": 46,
     "metadata": {},
     "output_type": "execute_result"
    }
   ],
   "source": [
    "df8[df8.bath>10]"
   ]
  },
  {
   "cell_type": "markdown",
   "metadata": {},
   "source": [
    "**It is unusual to have 2 more bathrooms than number of bedrooms in a home**"
   ]
  },
  {
   "cell_type": "code",
   "execution_count": 47,
   "metadata": {},
   "outputs": [
    {
     "data": {
      "text/html": [
       "<div>\n",
       "<style scoped>\n",
       "    .dataframe tbody tr th:only-of-type {\n",
       "        vertical-align: middle;\n",
       "    }\n",
       "\n",
       "    .dataframe tbody tr th {\n",
       "        vertical-align: top;\n",
       "    }\n",
       "\n",
       "    .dataframe thead th {\n",
       "        text-align: right;\n",
       "    }\n",
       "</style>\n",
       "<table border=\"1\" class=\"dataframe\">\n",
       "  <thead>\n",
       "    <tr style=\"text-align: right;\">\n",
       "      <th></th>\n",
       "      <th>location</th>\n",
       "      <th>size</th>\n",
       "      <th>total_sqft</th>\n",
       "      <th>bath</th>\n",
       "      <th>price</th>\n",
       "      <th>bhk</th>\n",
       "      <th>price_per_sqft</th>\n",
       "    </tr>\n",
       "  </thead>\n",
       "  <tbody>\n",
       "    <tr>\n",
       "      <th>1626</th>\n",
       "      <td>Chikkabanavar</td>\n",
       "      <td>4 Bedroom</td>\n",
       "      <td>2460.0</td>\n",
       "      <td>7.0</td>\n",
       "      <td>80.0</td>\n",
       "      <td>4</td>\n",
       "      <td>3252.032520</td>\n",
       "    </tr>\n",
       "    <tr>\n",
       "      <th>5238</th>\n",
       "      <td>Nagasandra</td>\n",
       "      <td>4 Bedroom</td>\n",
       "      <td>7000.0</td>\n",
       "      <td>8.0</td>\n",
       "      <td>450.0</td>\n",
       "      <td>4</td>\n",
       "      <td>6428.571429</td>\n",
       "    </tr>\n",
       "    <tr>\n",
       "      <th>6711</th>\n",
       "      <td>Thanisandra</td>\n",
       "      <td>3 BHK</td>\n",
       "      <td>1806.0</td>\n",
       "      <td>6.0</td>\n",
       "      <td>116.0</td>\n",
       "      <td>3</td>\n",
       "      <td>6423.034330</td>\n",
       "    </tr>\n",
       "    <tr>\n",
       "      <th>8408</th>\n",
       "      <td>other</td>\n",
       "      <td>6 BHK</td>\n",
       "      <td>11338.0</td>\n",
       "      <td>9.0</td>\n",
       "      <td>1000.0</td>\n",
       "      <td>6</td>\n",
       "      <td>8819.897689</td>\n",
       "    </tr>\n",
       "  </tbody>\n",
       "</table>\n",
       "</div>"
      ],
      "text/plain": [
       "           location       size  total_sqft  bath   price  bhk  price_per_sqft\n",
       "1626  Chikkabanavar  4 Bedroom      2460.0   7.0    80.0    4     3252.032520\n",
       "5238     Nagasandra  4 Bedroom      7000.0   8.0   450.0    4     6428.571429\n",
       "6711    Thanisandra      3 BHK      1806.0   6.0   116.0    3     6423.034330\n",
       "8408          other      6 BHK     11338.0   9.0  1000.0    6     8819.897689"
      ]
     },
     "execution_count": 47,
     "metadata": {},
     "output_type": "execute_result"
    }
   ],
   "source": [
    "df8[df8.bath>df8.bhk+2]"
   ]
  },
  {
   "cell_type": "markdown",
   "metadata": {},
   "source": [
    "**if you have 4 bedroom home and even if you have bathroom in all 4 rooms plus one guest bathroom, you will have total bath = total bed + 1 max. Anything above that is an outlier or a data error and can be removed**"
   ]
  },
  {
   "cell_type": "code",
   "execution_count": 48,
   "metadata": {},
   "outputs": [
    {
     "data": {
      "text/plain": [
       "(7239, 6)"
      ]
     },
     "execution_count": 48,
     "metadata": {},
     "output_type": "execute_result"
    }
   ],
   "source": [
    "df9 = df8[df8.bath<df8.bhk+2]\n",
    "df10=df9.drop('price_per_sqft',axis=1)\n",
    "df10.shape"
   ]
  },
  {
   "cell_type": "code",
   "execution_count": 71,
   "metadata": {},
   "outputs": [
    {
     "data": {
      "text/html": [
       "<div>\n",
       "<style scoped>\n",
       "    .dataframe tbody tr th:only-of-type {\n",
       "        vertical-align: middle;\n",
       "    }\n",
       "\n",
       "    .dataframe tbody tr th {\n",
       "        vertical-align: top;\n",
       "    }\n",
       "\n",
       "    .dataframe thead th {\n",
       "        text-align: right;\n",
       "    }\n",
       "</style>\n",
       "<table border=\"1\" class=\"dataframe\">\n",
       "  <thead>\n",
       "    <tr style=\"text-align: right;\">\n",
       "      <th></th>\n",
       "      <th>location</th>\n",
       "      <th>size</th>\n",
       "      <th>total_sqft</th>\n",
       "      <th>bath</th>\n",
       "      <th>price</th>\n",
       "      <th>bhk</th>\n",
       "      <th>price_per_sqft</th>\n",
       "    </tr>\n",
       "  </thead>\n",
       "  <tbody>\n",
       "    <tr>\n",
       "      <th>0</th>\n",
       "      <td>1st Block Jayanagar</td>\n",
       "      <td>4 BHK</td>\n",
       "      <td>2850.0</td>\n",
       "      <td>4.0</td>\n",
       "      <td>428.0</td>\n",
       "      <td>4</td>\n",
       "      <td>15017.543860</td>\n",
       "    </tr>\n",
       "    <tr>\n",
       "      <th>1</th>\n",
       "      <td>1st Block Jayanagar</td>\n",
       "      <td>3 BHK</td>\n",
       "      <td>1630.0</td>\n",
       "      <td>3.0</td>\n",
       "      <td>194.0</td>\n",
       "      <td>3</td>\n",
       "      <td>11901.840491</td>\n",
       "    </tr>\n",
       "  </tbody>\n",
       "</table>\n",
       "</div>"
      ],
      "text/plain": [
       "              location   size  total_sqft  bath  price  bhk  price_per_sqft\n",
       "0  1st Block Jayanagar  4 BHK      2850.0   4.0  428.0    4    15017.543860\n",
       "1  1st Block Jayanagar  3 BHK      1630.0   3.0  194.0    3    11901.840491"
      ]
     },
     "execution_count": 71,
     "metadata": {},
     "output_type": "execute_result"
    }
   ],
   "source": [
    "df9.head(2)"
   ]
  },
  {
   "cell_type": "markdown",
   "metadata": {},
   "source": [
    " ### Model Building"
   ]
  },
  {
   "cell_type": "code",
   "execution_count": 50,
   "metadata": {},
   "outputs": [
    {
     "name": "stdout",
     "output_type": "stream",
     "text": [
      "Data for Modeling: (5791, 7)\n",
      "Unseen Data For Predictions: (1448, 7)\n"
     ]
    }
   ],
   "source": [
    "\n",
    "data = df9.sample(frac=0.80, random_state=786)\n",
    "data_unseen = df9.drop(data.index).reset_index(drop=True)\n",
    "data.reset_index(drop=True, inplace=True)\n",
    "\n",
    "print('Data for Modeling: ' + str(data.shape))\n",
    "print('Unseen Data For Predictions: ' + str(data_unseen.shape))"
   ]
  },
  {
   "cell_type": "code",
   "execution_count": 51,
   "metadata": {
    "scrolled": false
   },
   "outputs": [
    {
     "name": "stdout",
     "output_type": "stream",
     "text": [
      " \n",
      "Setup Succesfully Completed!\n"
     ]
    },
    {
     "data": {
      "text/html": [
       "<style  type=\"text/css\" >\n",
       "    #T_d4196b0a_b60f_11ea_8e02_feee2f6eb5c0row15_col1 {\n",
       "            background-color:  lightgreen;\n",
       "        }</style><table id=\"T_d4196b0a_b60f_11ea_8e02_feee2f6eb5c0\" ><thead>    <tr>        <th class=\"blank level0\" ></th>        <th class=\"col_heading level0 col0\" >Description</th>        <th class=\"col_heading level0 col1\" >Value</th>    </tr></thead><tbody>\n",
       "                <tr>\n",
       "                        <th id=\"T_d4196b0a_b60f_11ea_8e02_feee2f6eb5c0level0_row0\" class=\"row_heading level0 row0\" >0</th>\n",
       "                        <td id=\"T_d4196b0a_b60f_11ea_8e02_feee2f6eb5c0row0_col0\" class=\"data row0 col0\" >session_id</td>\n",
       "                        <td id=\"T_d4196b0a_b60f_11ea_8e02_feee2f6eb5c0row0_col1\" class=\"data row0 col1\" >1975</td>\n",
       "            </tr>\n",
       "            <tr>\n",
       "                        <th id=\"T_d4196b0a_b60f_11ea_8e02_feee2f6eb5c0level0_row1\" class=\"row_heading level0 row1\" >1</th>\n",
       "                        <td id=\"T_d4196b0a_b60f_11ea_8e02_feee2f6eb5c0row1_col0\" class=\"data row1 col0\" >Transform Target </td>\n",
       "                        <td id=\"T_d4196b0a_b60f_11ea_8e02_feee2f6eb5c0row1_col1\" class=\"data row1 col1\" >False</td>\n",
       "            </tr>\n",
       "            <tr>\n",
       "                        <th id=\"T_d4196b0a_b60f_11ea_8e02_feee2f6eb5c0level0_row2\" class=\"row_heading level0 row2\" >2</th>\n",
       "                        <td id=\"T_d4196b0a_b60f_11ea_8e02_feee2f6eb5c0row2_col0\" class=\"data row2 col0\" >Transform Target Method</td>\n",
       "                        <td id=\"T_d4196b0a_b60f_11ea_8e02_feee2f6eb5c0row2_col1\" class=\"data row2 col1\" >None</td>\n",
       "            </tr>\n",
       "            <tr>\n",
       "                        <th id=\"T_d4196b0a_b60f_11ea_8e02_feee2f6eb5c0level0_row3\" class=\"row_heading level0 row3\" >3</th>\n",
       "                        <td id=\"T_d4196b0a_b60f_11ea_8e02_feee2f6eb5c0row3_col0\" class=\"data row3 col0\" >Original Data</td>\n",
       "                        <td id=\"T_d4196b0a_b60f_11ea_8e02_feee2f6eb5c0row3_col1\" class=\"data row3 col1\" >(5791, 7)</td>\n",
       "            </tr>\n",
       "            <tr>\n",
       "                        <th id=\"T_d4196b0a_b60f_11ea_8e02_feee2f6eb5c0level0_row4\" class=\"row_heading level0 row4\" >4</th>\n",
       "                        <td id=\"T_d4196b0a_b60f_11ea_8e02_feee2f6eb5c0row4_col0\" class=\"data row4 col0\" >Missing Values </td>\n",
       "                        <td id=\"T_d4196b0a_b60f_11ea_8e02_feee2f6eb5c0row4_col1\" class=\"data row4 col1\" >False</td>\n",
       "            </tr>\n",
       "            <tr>\n",
       "                        <th id=\"T_d4196b0a_b60f_11ea_8e02_feee2f6eb5c0level0_row5\" class=\"row_heading level0 row5\" >5</th>\n",
       "                        <td id=\"T_d4196b0a_b60f_11ea_8e02_feee2f6eb5c0row5_col0\" class=\"data row5 col0\" >Numeric Features </td>\n",
       "                        <td id=\"T_d4196b0a_b60f_11ea_8e02_feee2f6eb5c0row5_col1\" class=\"data row5 col1\" >2</td>\n",
       "            </tr>\n",
       "            <tr>\n",
       "                        <th id=\"T_d4196b0a_b60f_11ea_8e02_feee2f6eb5c0level0_row6\" class=\"row_heading level0 row6\" >6</th>\n",
       "                        <td id=\"T_d4196b0a_b60f_11ea_8e02_feee2f6eb5c0row6_col0\" class=\"data row6 col0\" >Categorical Features </td>\n",
       "                        <td id=\"T_d4196b0a_b60f_11ea_8e02_feee2f6eb5c0row6_col1\" class=\"data row6 col1\" >4</td>\n",
       "            </tr>\n",
       "            <tr>\n",
       "                        <th id=\"T_d4196b0a_b60f_11ea_8e02_feee2f6eb5c0level0_row7\" class=\"row_heading level0 row7\" >7</th>\n",
       "                        <td id=\"T_d4196b0a_b60f_11ea_8e02_feee2f6eb5c0row7_col0\" class=\"data row7 col0\" >Ordinal Features </td>\n",
       "                        <td id=\"T_d4196b0a_b60f_11ea_8e02_feee2f6eb5c0row7_col1\" class=\"data row7 col1\" >False</td>\n",
       "            </tr>\n",
       "            <tr>\n",
       "                        <th id=\"T_d4196b0a_b60f_11ea_8e02_feee2f6eb5c0level0_row8\" class=\"row_heading level0 row8\" >8</th>\n",
       "                        <td id=\"T_d4196b0a_b60f_11ea_8e02_feee2f6eb5c0row8_col0\" class=\"data row8 col0\" >High Cardinality Features </td>\n",
       "                        <td id=\"T_d4196b0a_b60f_11ea_8e02_feee2f6eb5c0row8_col1\" class=\"data row8 col1\" >False</td>\n",
       "            </tr>\n",
       "            <tr>\n",
       "                        <th id=\"T_d4196b0a_b60f_11ea_8e02_feee2f6eb5c0level0_row9\" class=\"row_heading level0 row9\" >9</th>\n",
       "                        <td id=\"T_d4196b0a_b60f_11ea_8e02_feee2f6eb5c0row9_col0\" class=\"data row9 col0\" >High Cardinality Method </td>\n",
       "                        <td id=\"T_d4196b0a_b60f_11ea_8e02_feee2f6eb5c0row9_col1\" class=\"data row9 col1\" >None</td>\n",
       "            </tr>\n",
       "            <tr>\n",
       "                        <th id=\"T_d4196b0a_b60f_11ea_8e02_feee2f6eb5c0level0_row10\" class=\"row_heading level0 row10\" >10</th>\n",
       "                        <td id=\"T_d4196b0a_b60f_11ea_8e02_feee2f6eb5c0row10_col0\" class=\"data row10 col0\" >Sampled Data</td>\n",
       "                        <td id=\"T_d4196b0a_b60f_11ea_8e02_feee2f6eb5c0row10_col1\" class=\"data row10 col1\" >(5791, 7)</td>\n",
       "            </tr>\n",
       "            <tr>\n",
       "                        <th id=\"T_d4196b0a_b60f_11ea_8e02_feee2f6eb5c0level0_row11\" class=\"row_heading level0 row11\" >11</th>\n",
       "                        <td id=\"T_d4196b0a_b60f_11ea_8e02_feee2f6eb5c0row11_col0\" class=\"data row11 col0\" >Transformed Train Set</td>\n",
       "                        <td id=\"T_d4196b0a_b60f_11ea_8e02_feee2f6eb5c0row11_col1\" class=\"data row11 col1\" >(4053, 282)</td>\n",
       "            </tr>\n",
       "            <tr>\n",
       "                        <th id=\"T_d4196b0a_b60f_11ea_8e02_feee2f6eb5c0level0_row12\" class=\"row_heading level0 row12\" >12</th>\n",
       "                        <td id=\"T_d4196b0a_b60f_11ea_8e02_feee2f6eb5c0row12_col0\" class=\"data row12 col0\" >Transformed Test Set</td>\n",
       "                        <td id=\"T_d4196b0a_b60f_11ea_8e02_feee2f6eb5c0row12_col1\" class=\"data row12 col1\" >(1738, 282)</td>\n",
       "            </tr>\n",
       "            <tr>\n",
       "                        <th id=\"T_d4196b0a_b60f_11ea_8e02_feee2f6eb5c0level0_row13\" class=\"row_heading level0 row13\" >13</th>\n",
       "                        <td id=\"T_d4196b0a_b60f_11ea_8e02_feee2f6eb5c0row13_col0\" class=\"data row13 col0\" >Numeric Imputer </td>\n",
       "                        <td id=\"T_d4196b0a_b60f_11ea_8e02_feee2f6eb5c0row13_col1\" class=\"data row13 col1\" >mean</td>\n",
       "            </tr>\n",
       "            <tr>\n",
       "                        <th id=\"T_d4196b0a_b60f_11ea_8e02_feee2f6eb5c0level0_row14\" class=\"row_heading level0 row14\" >14</th>\n",
       "                        <td id=\"T_d4196b0a_b60f_11ea_8e02_feee2f6eb5c0row14_col0\" class=\"data row14 col0\" >Categorical Imputer </td>\n",
       "                        <td id=\"T_d4196b0a_b60f_11ea_8e02_feee2f6eb5c0row14_col1\" class=\"data row14 col1\" >constant</td>\n",
       "            </tr>\n",
       "            <tr>\n",
       "                        <th id=\"T_d4196b0a_b60f_11ea_8e02_feee2f6eb5c0level0_row15\" class=\"row_heading level0 row15\" >15</th>\n",
       "                        <td id=\"T_d4196b0a_b60f_11ea_8e02_feee2f6eb5c0row15_col0\" class=\"data row15 col0\" >Normalize </td>\n",
       "                        <td id=\"T_d4196b0a_b60f_11ea_8e02_feee2f6eb5c0row15_col1\" class=\"data row15 col1\" >True</td>\n",
       "            </tr>\n",
       "            <tr>\n",
       "                        <th id=\"T_d4196b0a_b60f_11ea_8e02_feee2f6eb5c0level0_row16\" class=\"row_heading level0 row16\" >16</th>\n",
       "                        <td id=\"T_d4196b0a_b60f_11ea_8e02_feee2f6eb5c0row16_col0\" class=\"data row16 col0\" >Normalize Method </td>\n",
       "                        <td id=\"T_d4196b0a_b60f_11ea_8e02_feee2f6eb5c0row16_col1\" class=\"data row16 col1\" >zscore</td>\n",
       "            </tr>\n",
       "            <tr>\n",
       "                        <th id=\"T_d4196b0a_b60f_11ea_8e02_feee2f6eb5c0level0_row17\" class=\"row_heading level0 row17\" >17</th>\n",
       "                        <td id=\"T_d4196b0a_b60f_11ea_8e02_feee2f6eb5c0row17_col0\" class=\"data row17 col0\" >Transformation </td>\n",
       "                        <td id=\"T_d4196b0a_b60f_11ea_8e02_feee2f6eb5c0row17_col1\" class=\"data row17 col1\" >False</td>\n",
       "            </tr>\n",
       "            <tr>\n",
       "                        <th id=\"T_d4196b0a_b60f_11ea_8e02_feee2f6eb5c0level0_row18\" class=\"row_heading level0 row18\" >18</th>\n",
       "                        <td id=\"T_d4196b0a_b60f_11ea_8e02_feee2f6eb5c0row18_col0\" class=\"data row18 col0\" >Transformation Method </td>\n",
       "                        <td id=\"T_d4196b0a_b60f_11ea_8e02_feee2f6eb5c0row18_col1\" class=\"data row18 col1\" >None</td>\n",
       "            </tr>\n",
       "            <tr>\n",
       "                        <th id=\"T_d4196b0a_b60f_11ea_8e02_feee2f6eb5c0level0_row19\" class=\"row_heading level0 row19\" >19</th>\n",
       "                        <td id=\"T_d4196b0a_b60f_11ea_8e02_feee2f6eb5c0row19_col0\" class=\"data row19 col0\" >PCA </td>\n",
       "                        <td id=\"T_d4196b0a_b60f_11ea_8e02_feee2f6eb5c0row19_col1\" class=\"data row19 col1\" >False</td>\n",
       "            </tr>\n",
       "            <tr>\n",
       "                        <th id=\"T_d4196b0a_b60f_11ea_8e02_feee2f6eb5c0level0_row20\" class=\"row_heading level0 row20\" >20</th>\n",
       "                        <td id=\"T_d4196b0a_b60f_11ea_8e02_feee2f6eb5c0row20_col0\" class=\"data row20 col0\" >PCA Method </td>\n",
       "                        <td id=\"T_d4196b0a_b60f_11ea_8e02_feee2f6eb5c0row20_col1\" class=\"data row20 col1\" >None</td>\n",
       "            </tr>\n",
       "            <tr>\n",
       "                        <th id=\"T_d4196b0a_b60f_11ea_8e02_feee2f6eb5c0level0_row21\" class=\"row_heading level0 row21\" >21</th>\n",
       "                        <td id=\"T_d4196b0a_b60f_11ea_8e02_feee2f6eb5c0row21_col0\" class=\"data row21 col0\" >PCA Components </td>\n",
       "                        <td id=\"T_d4196b0a_b60f_11ea_8e02_feee2f6eb5c0row21_col1\" class=\"data row21 col1\" >None</td>\n",
       "            </tr>\n",
       "            <tr>\n",
       "                        <th id=\"T_d4196b0a_b60f_11ea_8e02_feee2f6eb5c0level0_row22\" class=\"row_heading level0 row22\" >22</th>\n",
       "                        <td id=\"T_d4196b0a_b60f_11ea_8e02_feee2f6eb5c0row22_col0\" class=\"data row22 col0\" >Ignore Low Variance </td>\n",
       "                        <td id=\"T_d4196b0a_b60f_11ea_8e02_feee2f6eb5c0row22_col1\" class=\"data row22 col1\" >False</td>\n",
       "            </tr>\n",
       "            <tr>\n",
       "                        <th id=\"T_d4196b0a_b60f_11ea_8e02_feee2f6eb5c0level0_row23\" class=\"row_heading level0 row23\" >23</th>\n",
       "                        <td id=\"T_d4196b0a_b60f_11ea_8e02_feee2f6eb5c0row23_col0\" class=\"data row23 col0\" >Combine Rare Levels </td>\n",
       "                        <td id=\"T_d4196b0a_b60f_11ea_8e02_feee2f6eb5c0row23_col1\" class=\"data row23 col1\" >False</td>\n",
       "            </tr>\n",
       "            <tr>\n",
       "                        <th id=\"T_d4196b0a_b60f_11ea_8e02_feee2f6eb5c0level0_row24\" class=\"row_heading level0 row24\" >24</th>\n",
       "                        <td id=\"T_d4196b0a_b60f_11ea_8e02_feee2f6eb5c0row24_col0\" class=\"data row24 col0\" >Rare Level Threshold </td>\n",
       "                        <td id=\"T_d4196b0a_b60f_11ea_8e02_feee2f6eb5c0row24_col1\" class=\"data row24 col1\" >None</td>\n",
       "            </tr>\n",
       "            <tr>\n",
       "                        <th id=\"T_d4196b0a_b60f_11ea_8e02_feee2f6eb5c0level0_row25\" class=\"row_heading level0 row25\" >25</th>\n",
       "                        <td id=\"T_d4196b0a_b60f_11ea_8e02_feee2f6eb5c0row25_col0\" class=\"data row25 col0\" >Numeric Binning </td>\n",
       "                        <td id=\"T_d4196b0a_b60f_11ea_8e02_feee2f6eb5c0row25_col1\" class=\"data row25 col1\" >False</td>\n",
       "            </tr>\n",
       "            <tr>\n",
       "                        <th id=\"T_d4196b0a_b60f_11ea_8e02_feee2f6eb5c0level0_row26\" class=\"row_heading level0 row26\" >26</th>\n",
       "                        <td id=\"T_d4196b0a_b60f_11ea_8e02_feee2f6eb5c0row26_col0\" class=\"data row26 col0\" >Remove Outliers </td>\n",
       "                        <td id=\"T_d4196b0a_b60f_11ea_8e02_feee2f6eb5c0row26_col1\" class=\"data row26 col1\" >False</td>\n",
       "            </tr>\n",
       "            <tr>\n",
       "                        <th id=\"T_d4196b0a_b60f_11ea_8e02_feee2f6eb5c0level0_row27\" class=\"row_heading level0 row27\" >27</th>\n",
       "                        <td id=\"T_d4196b0a_b60f_11ea_8e02_feee2f6eb5c0row27_col0\" class=\"data row27 col0\" >Outliers Threshold </td>\n",
       "                        <td id=\"T_d4196b0a_b60f_11ea_8e02_feee2f6eb5c0row27_col1\" class=\"data row27 col1\" >None</td>\n",
       "            </tr>\n",
       "            <tr>\n",
       "                        <th id=\"T_d4196b0a_b60f_11ea_8e02_feee2f6eb5c0level0_row28\" class=\"row_heading level0 row28\" >28</th>\n",
       "                        <td id=\"T_d4196b0a_b60f_11ea_8e02_feee2f6eb5c0row28_col0\" class=\"data row28 col0\" >Remove Multicollinearity </td>\n",
       "                        <td id=\"T_d4196b0a_b60f_11ea_8e02_feee2f6eb5c0row28_col1\" class=\"data row28 col1\" >False</td>\n",
       "            </tr>\n",
       "            <tr>\n",
       "                        <th id=\"T_d4196b0a_b60f_11ea_8e02_feee2f6eb5c0level0_row29\" class=\"row_heading level0 row29\" >29</th>\n",
       "                        <td id=\"T_d4196b0a_b60f_11ea_8e02_feee2f6eb5c0row29_col0\" class=\"data row29 col0\" >Multicollinearity Threshold </td>\n",
       "                        <td id=\"T_d4196b0a_b60f_11ea_8e02_feee2f6eb5c0row29_col1\" class=\"data row29 col1\" >None</td>\n",
       "            </tr>\n",
       "            <tr>\n",
       "                        <th id=\"T_d4196b0a_b60f_11ea_8e02_feee2f6eb5c0level0_row30\" class=\"row_heading level0 row30\" >30</th>\n",
       "                        <td id=\"T_d4196b0a_b60f_11ea_8e02_feee2f6eb5c0row30_col0\" class=\"data row30 col0\" >Clustering </td>\n",
       "                        <td id=\"T_d4196b0a_b60f_11ea_8e02_feee2f6eb5c0row30_col1\" class=\"data row30 col1\" >False</td>\n",
       "            </tr>\n",
       "            <tr>\n",
       "                        <th id=\"T_d4196b0a_b60f_11ea_8e02_feee2f6eb5c0level0_row31\" class=\"row_heading level0 row31\" >31</th>\n",
       "                        <td id=\"T_d4196b0a_b60f_11ea_8e02_feee2f6eb5c0row31_col0\" class=\"data row31 col0\" >Clustering Iteration </td>\n",
       "                        <td id=\"T_d4196b0a_b60f_11ea_8e02_feee2f6eb5c0row31_col1\" class=\"data row31 col1\" >None</td>\n",
       "            </tr>\n",
       "            <tr>\n",
       "                        <th id=\"T_d4196b0a_b60f_11ea_8e02_feee2f6eb5c0level0_row32\" class=\"row_heading level0 row32\" >32</th>\n",
       "                        <td id=\"T_d4196b0a_b60f_11ea_8e02_feee2f6eb5c0row32_col0\" class=\"data row32 col0\" >Polynomial Features </td>\n",
       "                        <td id=\"T_d4196b0a_b60f_11ea_8e02_feee2f6eb5c0row32_col1\" class=\"data row32 col1\" >False</td>\n",
       "            </tr>\n",
       "            <tr>\n",
       "                        <th id=\"T_d4196b0a_b60f_11ea_8e02_feee2f6eb5c0level0_row33\" class=\"row_heading level0 row33\" >33</th>\n",
       "                        <td id=\"T_d4196b0a_b60f_11ea_8e02_feee2f6eb5c0row33_col0\" class=\"data row33 col0\" >Polynomial Degree </td>\n",
       "                        <td id=\"T_d4196b0a_b60f_11ea_8e02_feee2f6eb5c0row33_col1\" class=\"data row33 col1\" >None</td>\n",
       "            </tr>\n",
       "            <tr>\n",
       "                        <th id=\"T_d4196b0a_b60f_11ea_8e02_feee2f6eb5c0level0_row34\" class=\"row_heading level0 row34\" >34</th>\n",
       "                        <td id=\"T_d4196b0a_b60f_11ea_8e02_feee2f6eb5c0row34_col0\" class=\"data row34 col0\" >Trignometry Features </td>\n",
       "                        <td id=\"T_d4196b0a_b60f_11ea_8e02_feee2f6eb5c0row34_col1\" class=\"data row34 col1\" >False</td>\n",
       "            </tr>\n",
       "            <tr>\n",
       "                        <th id=\"T_d4196b0a_b60f_11ea_8e02_feee2f6eb5c0level0_row35\" class=\"row_heading level0 row35\" >35</th>\n",
       "                        <td id=\"T_d4196b0a_b60f_11ea_8e02_feee2f6eb5c0row35_col0\" class=\"data row35 col0\" >Polynomial Threshold </td>\n",
       "                        <td id=\"T_d4196b0a_b60f_11ea_8e02_feee2f6eb5c0row35_col1\" class=\"data row35 col1\" >None</td>\n",
       "            </tr>\n",
       "            <tr>\n",
       "                        <th id=\"T_d4196b0a_b60f_11ea_8e02_feee2f6eb5c0level0_row36\" class=\"row_heading level0 row36\" >36</th>\n",
       "                        <td id=\"T_d4196b0a_b60f_11ea_8e02_feee2f6eb5c0row36_col0\" class=\"data row36 col0\" >Group Features </td>\n",
       "                        <td id=\"T_d4196b0a_b60f_11ea_8e02_feee2f6eb5c0row36_col1\" class=\"data row36 col1\" >False</td>\n",
       "            </tr>\n",
       "            <tr>\n",
       "                        <th id=\"T_d4196b0a_b60f_11ea_8e02_feee2f6eb5c0level0_row37\" class=\"row_heading level0 row37\" >37</th>\n",
       "                        <td id=\"T_d4196b0a_b60f_11ea_8e02_feee2f6eb5c0row37_col0\" class=\"data row37 col0\" >Feature Selection </td>\n",
       "                        <td id=\"T_d4196b0a_b60f_11ea_8e02_feee2f6eb5c0row37_col1\" class=\"data row37 col1\" >False</td>\n",
       "            </tr>\n",
       "            <tr>\n",
       "                        <th id=\"T_d4196b0a_b60f_11ea_8e02_feee2f6eb5c0level0_row38\" class=\"row_heading level0 row38\" >38</th>\n",
       "                        <td id=\"T_d4196b0a_b60f_11ea_8e02_feee2f6eb5c0row38_col0\" class=\"data row38 col0\" >Features Selection Threshold </td>\n",
       "                        <td id=\"T_d4196b0a_b60f_11ea_8e02_feee2f6eb5c0row38_col1\" class=\"data row38 col1\" >None</td>\n",
       "            </tr>\n",
       "            <tr>\n",
       "                        <th id=\"T_d4196b0a_b60f_11ea_8e02_feee2f6eb5c0level0_row39\" class=\"row_heading level0 row39\" >39</th>\n",
       "                        <td id=\"T_d4196b0a_b60f_11ea_8e02_feee2f6eb5c0row39_col0\" class=\"data row39 col0\" >Feature Interaction </td>\n",
       "                        <td id=\"T_d4196b0a_b60f_11ea_8e02_feee2f6eb5c0row39_col1\" class=\"data row39 col1\" >False</td>\n",
       "            </tr>\n",
       "            <tr>\n",
       "                        <th id=\"T_d4196b0a_b60f_11ea_8e02_feee2f6eb5c0level0_row40\" class=\"row_heading level0 row40\" >40</th>\n",
       "                        <td id=\"T_d4196b0a_b60f_11ea_8e02_feee2f6eb5c0row40_col0\" class=\"data row40 col0\" >Feature Ratio </td>\n",
       "                        <td id=\"T_d4196b0a_b60f_11ea_8e02_feee2f6eb5c0row40_col1\" class=\"data row40 col1\" >False</td>\n",
       "            </tr>\n",
       "            <tr>\n",
       "                        <th id=\"T_d4196b0a_b60f_11ea_8e02_feee2f6eb5c0level0_row41\" class=\"row_heading level0 row41\" >41</th>\n",
       "                        <td id=\"T_d4196b0a_b60f_11ea_8e02_feee2f6eb5c0row41_col0\" class=\"data row41 col0\" >Interaction Threshold </td>\n",
       "                        <td id=\"T_d4196b0a_b60f_11ea_8e02_feee2f6eb5c0row41_col1\" class=\"data row41 col1\" >None</td>\n",
       "            </tr>\n",
       "    </tbody></table>"
      ],
      "text/plain": [
       "<pandas.io.formats.style.Styler at 0x1ffce4ae188>"
      ]
     },
     "metadata": {},
     "output_type": "display_data"
    }
   ],
   "source": [
    "from pycaret.regression import *\n",
    "reg = setup(data=data, target = 'price', session_id=1975,categorical_features=['location','size','bath'],normalize=True)"
   ]
  },
  {
   "cell_type": "code",
   "execution_count": 53,
   "metadata": {
    "scrolled": false
   },
   "outputs": [
    {
     "data": {
      "text/html": [
       "<style  type=\"text/css\" >\n",
       "    #T_89cfab30_b624_11ea_a84e_feee2f6eb5c0 th {\n",
       "          text-align: left;\n",
       "    }    #T_89cfab30_b624_11ea_a84e_feee2f6eb5c0row0_col0 {\n",
       "            text-align:  left;\n",
       "        }    #T_89cfab30_b624_11ea_a84e_feee2f6eb5c0row0_col1 {\n",
       "            : ;\n",
       "            text-align:  left;\n",
       "        }    #T_89cfab30_b624_11ea_a84e_feee2f6eb5c0row0_col2 {\n",
       "            : ;\n",
       "            text-align:  left;\n",
       "        }    #T_89cfab30_b624_11ea_a84e_feee2f6eb5c0row0_col3 {\n",
       "            background-color:  yellow;\n",
       "            text-align:  left;\n",
       "        }    #T_89cfab30_b624_11ea_a84e_feee2f6eb5c0row0_col4 {\n",
       "            text-align:  left;\n",
       "        }    #T_89cfab30_b624_11ea_a84e_feee2f6eb5c0row0_col5 {\n",
       "            : ;\n",
       "            text-align:  left;\n",
       "        }    #T_89cfab30_b624_11ea_a84e_feee2f6eb5c0row0_col6 {\n",
       "            : ;\n",
       "            text-align:  left;\n",
       "        }    #T_89cfab30_b624_11ea_a84e_feee2f6eb5c0row1_col0 {\n",
       "            text-align:  left;\n",
       "        }    #T_89cfab30_b624_11ea_a84e_feee2f6eb5c0row1_col1 {\n",
       "            : ;\n",
       "            text-align:  left;\n",
       "        }    #T_89cfab30_b624_11ea_a84e_feee2f6eb5c0row1_col2 {\n",
       "            : ;\n",
       "            text-align:  left;\n",
       "        }    #T_89cfab30_b624_11ea_a84e_feee2f6eb5c0row1_col3 {\n",
       "            : ;\n",
       "            text-align:  left;\n",
       "        }    #T_89cfab30_b624_11ea_a84e_feee2f6eb5c0row1_col4 {\n",
       "            text-align:  left;\n",
       "        }    #T_89cfab30_b624_11ea_a84e_feee2f6eb5c0row1_col5 {\n",
       "            : ;\n",
       "            text-align:  left;\n",
       "        }    #T_89cfab30_b624_11ea_a84e_feee2f6eb5c0row1_col6 {\n",
       "            : ;\n",
       "            text-align:  left;\n",
       "        }    #T_89cfab30_b624_11ea_a84e_feee2f6eb5c0row2_col0 {\n",
       "            text-align:  left;\n",
       "        }    #T_89cfab30_b624_11ea_a84e_feee2f6eb5c0row2_col1 {\n",
       "            background-color:  yellow;\n",
       "            text-align:  left;\n",
       "        }    #T_89cfab30_b624_11ea_a84e_feee2f6eb5c0row2_col2 {\n",
       "            : ;\n",
       "            text-align:  left;\n",
       "        }    #T_89cfab30_b624_11ea_a84e_feee2f6eb5c0row2_col3 {\n",
       "            : ;\n",
       "            text-align:  left;\n",
       "        }    #T_89cfab30_b624_11ea_a84e_feee2f6eb5c0row2_col4 {\n",
       "            text-align:  left;\n",
       "        }    #T_89cfab30_b624_11ea_a84e_feee2f6eb5c0row2_col5 {\n",
       "            background-color:  yellow;\n",
       "            text-align:  left;\n",
       "        }    #T_89cfab30_b624_11ea_a84e_feee2f6eb5c0row2_col6 {\n",
       "            background-color:  yellow;\n",
       "            text-align:  left;\n",
       "        }    #T_89cfab30_b624_11ea_a84e_feee2f6eb5c0row3_col0 {\n",
       "            text-align:  left;\n",
       "        }    #T_89cfab30_b624_11ea_a84e_feee2f6eb5c0row3_col1 {\n",
       "            : ;\n",
       "            text-align:  left;\n",
       "        }    #T_89cfab30_b624_11ea_a84e_feee2f6eb5c0row3_col2 {\n",
       "            : ;\n",
       "            text-align:  left;\n",
       "        }    #T_89cfab30_b624_11ea_a84e_feee2f6eb5c0row3_col3 {\n",
       "            : ;\n",
       "            text-align:  left;\n",
       "        }    #T_89cfab30_b624_11ea_a84e_feee2f6eb5c0row3_col4 {\n",
       "            text-align:  left;\n",
       "        }    #T_89cfab30_b624_11ea_a84e_feee2f6eb5c0row3_col5 {\n",
       "            : ;\n",
       "            text-align:  left;\n",
       "        }    #T_89cfab30_b624_11ea_a84e_feee2f6eb5c0row3_col6 {\n",
       "            : ;\n",
       "            text-align:  left;\n",
       "        }    #T_89cfab30_b624_11ea_a84e_feee2f6eb5c0row4_col0 {\n",
       "            text-align:  left;\n",
       "        }    #T_89cfab30_b624_11ea_a84e_feee2f6eb5c0row4_col1 {\n",
       "            : ;\n",
       "            text-align:  left;\n",
       "        }    #T_89cfab30_b624_11ea_a84e_feee2f6eb5c0row4_col2 {\n",
       "            background-color:  yellow;\n",
       "            text-align:  left;\n",
       "        }    #T_89cfab30_b624_11ea_a84e_feee2f6eb5c0row4_col3 {\n",
       "            : ;\n",
       "            text-align:  left;\n",
       "        }    #T_89cfab30_b624_11ea_a84e_feee2f6eb5c0row4_col4 {\n",
       "            text-align:  left;\n",
       "        }    #T_89cfab30_b624_11ea_a84e_feee2f6eb5c0row4_col5 {\n",
       "            : ;\n",
       "            text-align:  left;\n",
       "        }    #T_89cfab30_b624_11ea_a84e_feee2f6eb5c0row4_col6 {\n",
       "            : ;\n",
       "            text-align:  left;\n",
       "        }    #T_89cfab30_b624_11ea_a84e_feee2f6eb5c0row5_col0 {\n",
       "            text-align:  left;\n",
       "        }    #T_89cfab30_b624_11ea_a84e_feee2f6eb5c0row5_col1 {\n",
       "            : ;\n",
       "            text-align:  left;\n",
       "        }    #T_89cfab30_b624_11ea_a84e_feee2f6eb5c0row5_col2 {\n",
       "            : ;\n",
       "            text-align:  left;\n",
       "        }    #T_89cfab30_b624_11ea_a84e_feee2f6eb5c0row5_col3 {\n",
       "            : ;\n",
       "            text-align:  left;\n",
       "        }    #T_89cfab30_b624_11ea_a84e_feee2f6eb5c0row5_col4 {\n",
       "            text-align:  left;\n",
       "        }    #T_89cfab30_b624_11ea_a84e_feee2f6eb5c0row5_col5 {\n",
       "            : ;\n",
       "            text-align:  left;\n",
       "        }    #T_89cfab30_b624_11ea_a84e_feee2f6eb5c0row5_col6 {\n",
       "            : ;\n",
       "            text-align:  left;\n",
       "        }    #T_89cfab30_b624_11ea_a84e_feee2f6eb5c0row6_col0 {\n",
       "            text-align:  left;\n",
       "        }    #T_89cfab30_b624_11ea_a84e_feee2f6eb5c0row6_col1 {\n",
       "            : ;\n",
       "            text-align:  left;\n",
       "        }    #T_89cfab30_b624_11ea_a84e_feee2f6eb5c0row6_col2 {\n",
       "            : ;\n",
       "            text-align:  left;\n",
       "        }    #T_89cfab30_b624_11ea_a84e_feee2f6eb5c0row6_col3 {\n",
       "            : ;\n",
       "            text-align:  left;\n",
       "        }    #T_89cfab30_b624_11ea_a84e_feee2f6eb5c0row6_col4 {\n",
       "            text-align:  left;\n",
       "        }    #T_89cfab30_b624_11ea_a84e_feee2f6eb5c0row6_col5 {\n",
       "            : ;\n",
       "            text-align:  left;\n",
       "        }    #T_89cfab30_b624_11ea_a84e_feee2f6eb5c0row6_col6 {\n",
       "            : ;\n",
       "            text-align:  left;\n",
       "        }    #T_89cfab30_b624_11ea_a84e_feee2f6eb5c0row7_col0 {\n",
       "            text-align:  left;\n",
       "        }    #T_89cfab30_b624_11ea_a84e_feee2f6eb5c0row7_col1 {\n",
       "            : ;\n",
       "            text-align:  left;\n",
       "        }    #T_89cfab30_b624_11ea_a84e_feee2f6eb5c0row7_col2 {\n",
       "            : ;\n",
       "            text-align:  left;\n",
       "        }    #T_89cfab30_b624_11ea_a84e_feee2f6eb5c0row7_col3 {\n",
       "            : ;\n",
       "            text-align:  left;\n",
       "        }    #T_89cfab30_b624_11ea_a84e_feee2f6eb5c0row7_col4 {\n",
       "            text-align:  left;\n",
       "        }    #T_89cfab30_b624_11ea_a84e_feee2f6eb5c0row7_col5 {\n",
       "            : ;\n",
       "            text-align:  left;\n",
       "        }    #T_89cfab30_b624_11ea_a84e_feee2f6eb5c0row7_col6 {\n",
       "            : ;\n",
       "            text-align:  left;\n",
       "        }    #T_89cfab30_b624_11ea_a84e_feee2f6eb5c0row8_col0 {\n",
       "            text-align:  left;\n",
       "        }    #T_89cfab30_b624_11ea_a84e_feee2f6eb5c0row8_col1 {\n",
       "            : ;\n",
       "            text-align:  left;\n",
       "        }    #T_89cfab30_b624_11ea_a84e_feee2f6eb5c0row8_col2 {\n",
       "            : ;\n",
       "            text-align:  left;\n",
       "        }    #T_89cfab30_b624_11ea_a84e_feee2f6eb5c0row8_col3 {\n",
       "            : ;\n",
       "            text-align:  left;\n",
       "        }    #T_89cfab30_b624_11ea_a84e_feee2f6eb5c0row8_col4 {\n",
       "            text-align:  left;\n",
       "        }    #T_89cfab30_b624_11ea_a84e_feee2f6eb5c0row8_col5 {\n",
       "            : ;\n",
       "            text-align:  left;\n",
       "        }    #T_89cfab30_b624_11ea_a84e_feee2f6eb5c0row8_col6 {\n",
       "            : ;\n",
       "            text-align:  left;\n",
       "        }    #T_89cfab30_b624_11ea_a84e_feee2f6eb5c0row9_col0 {\n",
       "            text-align:  left;\n",
       "        }    #T_89cfab30_b624_11ea_a84e_feee2f6eb5c0row9_col1 {\n",
       "            : ;\n",
       "            text-align:  left;\n",
       "        }    #T_89cfab30_b624_11ea_a84e_feee2f6eb5c0row9_col2 {\n",
       "            : ;\n",
       "            text-align:  left;\n",
       "        }    #T_89cfab30_b624_11ea_a84e_feee2f6eb5c0row9_col3 {\n",
       "            : ;\n",
       "            text-align:  left;\n",
       "        }    #T_89cfab30_b624_11ea_a84e_feee2f6eb5c0row9_col4 {\n",
       "            text-align:  left;\n",
       "        }    #T_89cfab30_b624_11ea_a84e_feee2f6eb5c0row9_col5 {\n",
       "            : ;\n",
       "            text-align:  left;\n",
       "        }    #T_89cfab30_b624_11ea_a84e_feee2f6eb5c0row9_col6 {\n",
       "            : ;\n",
       "            text-align:  left;\n",
       "        }    #T_89cfab30_b624_11ea_a84e_feee2f6eb5c0row10_col0 {\n",
       "            text-align:  left;\n",
       "        }    #T_89cfab30_b624_11ea_a84e_feee2f6eb5c0row10_col1 {\n",
       "            : ;\n",
       "            text-align:  left;\n",
       "        }    #T_89cfab30_b624_11ea_a84e_feee2f6eb5c0row10_col2 {\n",
       "            : ;\n",
       "            text-align:  left;\n",
       "        }    #T_89cfab30_b624_11ea_a84e_feee2f6eb5c0row10_col3 {\n",
       "            : ;\n",
       "            text-align:  left;\n",
       "        }    #T_89cfab30_b624_11ea_a84e_feee2f6eb5c0row10_col4 {\n",
       "            text-align:  left;\n",
       "        }    #T_89cfab30_b624_11ea_a84e_feee2f6eb5c0row10_col5 {\n",
       "            : ;\n",
       "            text-align:  left;\n",
       "        }    #T_89cfab30_b624_11ea_a84e_feee2f6eb5c0row10_col6 {\n",
       "            : ;\n",
       "            text-align:  left;\n",
       "        }    #T_89cfab30_b624_11ea_a84e_feee2f6eb5c0row11_col0 {\n",
       "            text-align:  left;\n",
       "        }    #T_89cfab30_b624_11ea_a84e_feee2f6eb5c0row11_col1 {\n",
       "            : ;\n",
       "            text-align:  left;\n",
       "        }    #T_89cfab30_b624_11ea_a84e_feee2f6eb5c0row11_col2 {\n",
       "            : ;\n",
       "            text-align:  left;\n",
       "        }    #T_89cfab30_b624_11ea_a84e_feee2f6eb5c0row11_col3 {\n",
       "            : ;\n",
       "            text-align:  left;\n",
       "        }    #T_89cfab30_b624_11ea_a84e_feee2f6eb5c0row11_col4 {\n",
       "            text-align:  left;\n",
       "        }    #T_89cfab30_b624_11ea_a84e_feee2f6eb5c0row11_col5 {\n",
       "            : ;\n",
       "            text-align:  left;\n",
       "        }    #T_89cfab30_b624_11ea_a84e_feee2f6eb5c0row11_col6 {\n",
       "            : ;\n",
       "            text-align:  left;\n",
       "        }    #T_89cfab30_b624_11ea_a84e_feee2f6eb5c0row12_col0 {\n",
       "            text-align:  left;\n",
       "        }    #T_89cfab30_b624_11ea_a84e_feee2f6eb5c0row12_col1 {\n",
       "            : ;\n",
       "            text-align:  left;\n",
       "        }    #T_89cfab30_b624_11ea_a84e_feee2f6eb5c0row12_col2 {\n",
       "            : ;\n",
       "            text-align:  left;\n",
       "        }    #T_89cfab30_b624_11ea_a84e_feee2f6eb5c0row12_col3 {\n",
       "            : ;\n",
       "            text-align:  left;\n",
       "        }    #T_89cfab30_b624_11ea_a84e_feee2f6eb5c0row12_col4 {\n",
       "            text-align:  left;\n",
       "        }    #T_89cfab30_b624_11ea_a84e_feee2f6eb5c0row12_col5 {\n",
       "            : ;\n",
       "            text-align:  left;\n",
       "        }    #T_89cfab30_b624_11ea_a84e_feee2f6eb5c0row12_col6 {\n",
       "            : ;\n",
       "            text-align:  left;\n",
       "        }    #T_89cfab30_b624_11ea_a84e_feee2f6eb5c0row13_col0 {\n",
       "            text-align:  left;\n",
       "        }    #T_89cfab30_b624_11ea_a84e_feee2f6eb5c0row13_col1 {\n",
       "            : ;\n",
       "            text-align:  left;\n",
       "        }    #T_89cfab30_b624_11ea_a84e_feee2f6eb5c0row13_col2 {\n",
       "            : ;\n",
       "            text-align:  left;\n",
       "        }    #T_89cfab30_b624_11ea_a84e_feee2f6eb5c0row13_col3 {\n",
       "            : ;\n",
       "            text-align:  left;\n",
       "        }    #T_89cfab30_b624_11ea_a84e_feee2f6eb5c0row13_col4 {\n",
       "            text-align:  left;\n",
       "        }    #T_89cfab30_b624_11ea_a84e_feee2f6eb5c0row13_col5 {\n",
       "            : ;\n",
       "            text-align:  left;\n",
       "        }    #T_89cfab30_b624_11ea_a84e_feee2f6eb5c0row13_col6 {\n",
       "            : ;\n",
       "            text-align:  left;\n",
       "        }    #T_89cfab30_b624_11ea_a84e_feee2f6eb5c0row14_col0 {\n",
       "            text-align:  left;\n",
       "        }    #T_89cfab30_b624_11ea_a84e_feee2f6eb5c0row14_col1 {\n",
       "            : ;\n",
       "            text-align:  left;\n",
       "        }    #T_89cfab30_b624_11ea_a84e_feee2f6eb5c0row14_col2 {\n",
       "            : ;\n",
       "            text-align:  left;\n",
       "        }    #T_89cfab30_b624_11ea_a84e_feee2f6eb5c0row14_col3 {\n",
       "            : ;\n",
       "            text-align:  left;\n",
       "        }    #T_89cfab30_b624_11ea_a84e_feee2f6eb5c0row14_col4 {\n",
       "            text-align:  left;\n",
       "        }    #T_89cfab30_b624_11ea_a84e_feee2f6eb5c0row14_col5 {\n",
       "            : ;\n",
       "            text-align:  left;\n",
       "        }    #T_89cfab30_b624_11ea_a84e_feee2f6eb5c0row14_col6 {\n",
       "            : ;\n",
       "            text-align:  left;\n",
       "        }    #T_89cfab30_b624_11ea_a84e_feee2f6eb5c0row15_col0 {\n",
       "            text-align:  left;\n",
       "        }    #T_89cfab30_b624_11ea_a84e_feee2f6eb5c0row15_col1 {\n",
       "            : ;\n",
       "            text-align:  left;\n",
       "        }    #T_89cfab30_b624_11ea_a84e_feee2f6eb5c0row15_col2 {\n",
       "            : ;\n",
       "            text-align:  left;\n",
       "        }    #T_89cfab30_b624_11ea_a84e_feee2f6eb5c0row15_col3 {\n",
       "            : ;\n",
       "            text-align:  left;\n",
       "        }    #T_89cfab30_b624_11ea_a84e_feee2f6eb5c0row15_col4 {\n",
       "            text-align:  left;\n",
       "        }    #T_89cfab30_b624_11ea_a84e_feee2f6eb5c0row15_col5 {\n",
       "            : ;\n",
       "            text-align:  left;\n",
       "        }    #T_89cfab30_b624_11ea_a84e_feee2f6eb5c0row15_col6 {\n",
       "            : ;\n",
       "            text-align:  left;\n",
       "        }    #T_89cfab30_b624_11ea_a84e_feee2f6eb5c0row16_col0 {\n",
       "            text-align:  left;\n",
       "        }    #T_89cfab30_b624_11ea_a84e_feee2f6eb5c0row16_col1 {\n",
       "            : ;\n",
       "            text-align:  left;\n",
       "        }    #T_89cfab30_b624_11ea_a84e_feee2f6eb5c0row16_col2 {\n",
       "            : ;\n",
       "            text-align:  left;\n",
       "        }    #T_89cfab30_b624_11ea_a84e_feee2f6eb5c0row16_col3 {\n",
       "            : ;\n",
       "            text-align:  left;\n",
       "        }    #T_89cfab30_b624_11ea_a84e_feee2f6eb5c0row16_col4 {\n",
       "            text-align:  left;\n",
       "        }    #T_89cfab30_b624_11ea_a84e_feee2f6eb5c0row16_col5 {\n",
       "            : ;\n",
       "            text-align:  left;\n",
       "        }    #T_89cfab30_b624_11ea_a84e_feee2f6eb5c0row16_col6 {\n",
       "            : ;\n",
       "            text-align:  left;\n",
       "        }    #T_89cfab30_b624_11ea_a84e_feee2f6eb5c0row17_col0 {\n",
       "            text-align:  left;\n",
       "        }    #T_89cfab30_b624_11ea_a84e_feee2f6eb5c0row17_col1 {\n",
       "            : ;\n",
       "            text-align:  left;\n",
       "        }    #T_89cfab30_b624_11ea_a84e_feee2f6eb5c0row17_col2 {\n",
       "            : ;\n",
       "            text-align:  left;\n",
       "        }    #T_89cfab30_b624_11ea_a84e_feee2f6eb5c0row17_col3 {\n",
       "            : ;\n",
       "            text-align:  left;\n",
       "        }    #T_89cfab30_b624_11ea_a84e_feee2f6eb5c0row17_col4 {\n",
       "            text-align:  left;\n",
       "        }    #T_89cfab30_b624_11ea_a84e_feee2f6eb5c0row17_col5 {\n",
       "            : ;\n",
       "            text-align:  left;\n",
       "        }    #T_89cfab30_b624_11ea_a84e_feee2f6eb5c0row17_col6 {\n",
       "            : ;\n",
       "            text-align:  left;\n",
       "        }    #T_89cfab30_b624_11ea_a84e_feee2f6eb5c0row18_col0 {\n",
       "            text-align:  left;\n",
       "        }    #T_89cfab30_b624_11ea_a84e_feee2f6eb5c0row18_col1 {\n",
       "            : ;\n",
       "            text-align:  left;\n",
       "        }    #T_89cfab30_b624_11ea_a84e_feee2f6eb5c0row18_col2 {\n",
       "            : ;\n",
       "            text-align:  left;\n",
       "        }    #T_89cfab30_b624_11ea_a84e_feee2f6eb5c0row18_col3 {\n",
       "            : ;\n",
       "            text-align:  left;\n",
       "        }    #T_89cfab30_b624_11ea_a84e_feee2f6eb5c0row18_col4 {\n",
       "            text-align:  left;\n",
       "        }    #T_89cfab30_b624_11ea_a84e_feee2f6eb5c0row18_col5 {\n",
       "            : ;\n",
       "            text-align:  left;\n",
       "        }    #T_89cfab30_b624_11ea_a84e_feee2f6eb5c0row18_col6 {\n",
       "            : ;\n",
       "            text-align:  left;\n",
       "        }    #T_89cfab30_b624_11ea_a84e_feee2f6eb5c0row19_col0 {\n",
       "            text-align:  left;\n",
       "        }    #T_89cfab30_b624_11ea_a84e_feee2f6eb5c0row19_col1 {\n",
       "            : ;\n",
       "            text-align:  left;\n",
       "        }    #T_89cfab30_b624_11ea_a84e_feee2f6eb5c0row19_col2 {\n",
       "            : ;\n",
       "            text-align:  left;\n",
       "        }    #T_89cfab30_b624_11ea_a84e_feee2f6eb5c0row19_col3 {\n",
       "            : ;\n",
       "            text-align:  left;\n",
       "        }    #T_89cfab30_b624_11ea_a84e_feee2f6eb5c0row19_col4 {\n",
       "            text-align:  left;\n",
       "        }    #T_89cfab30_b624_11ea_a84e_feee2f6eb5c0row19_col5 {\n",
       "            : ;\n",
       "            text-align:  left;\n",
       "        }    #T_89cfab30_b624_11ea_a84e_feee2f6eb5c0row19_col6 {\n",
       "            : ;\n",
       "            text-align:  left;\n",
       "        }    #T_89cfab30_b624_11ea_a84e_feee2f6eb5c0row20_col0 {\n",
       "            text-align:  left;\n",
       "        }    #T_89cfab30_b624_11ea_a84e_feee2f6eb5c0row20_col1 {\n",
       "            : ;\n",
       "            text-align:  left;\n",
       "        }    #T_89cfab30_b624_11ea_a84e_feee2f6eb5c0row20_col2 {\n",
       "            : ;\n",
       "            text-align:  left;\n",
       "        }    #T_89cfab30_b624_11ea_a84e_feee2f6eb5c0row20_col3 {\n",
       "            : ;\n",
       "            text-align:  left;\n",
       "        }    #T_89cfab30_b624_11ea_a84e_feee2f6eb5c0row20_col4 {\n",
       "            text-align:  left;\n",
       "        }    #T_89cfab30_b624_11ea_a84e_feee2f6eb5c0row20_col5 {\n",
       "            : ;\n",
       "            text-align:  left;\n",
       "        }    #T_89cfab30_b624_11ea_a84e_feee2f6eb5c0row20_col6 {\n",
       "            : ;\n",
       "            text-align:  left;\n",
       "        }    #T_89cfab30_b624_11ea_a84e_feee2f6eb5c0row21_col0 {\n",
       "            text-align:  left;\n",
       "        }    #T_89cfab30_b624_11ea_a84e_feee2f6eb5c0row21_col1 {\n",
       "            : ;\n",
       "            text-align:  left;\n",
       "        }    #T_89cfab30_b624_11ea_a84e_feee2f6eb5c0row21_col2 {\n",
       "            : ;\n",
       "            text-align:  left;\n",
       "        }    #T_89cfab30_b624_11ea_a84e_feee2f6eb5c0row21_col3 {\n",
       "            : ;\n",
       "            text-align:  left;\n",
       "        }    #T_89cfab30_b624_11ea_a84e_feee2f6eb5c0row21_col4 {\n",
       "            text-align:  left;\n",
       "        }    #T_89cfab30_b624_11ea_a84e_feee2f6eb5c0row21_col5 {\n",
       "            : ;\n",
       "            text-align:  left;\n",
       "        }    #T_89cfab30_b624_11ea_a84e_feee2f6eb5c0row21_col6 {\n",
       "            : ;\n",
       "            text-align:  left;\n",
       "        }</style><table id=\"T_89cfab30_b624_11ea_a84e_feee2f6eb5c0\" ><thead>    <tr>        <th class=\"blank level0\" ></th>        <th class=\"col_heading level0 col0\" >Model</th>        <th class=\"col_heading level0 col1\" >MAE</th>        <th class=\"col_heading level0 col2\" >MSE</th>        <th class=\"col_heading level0 col3\" >RMSE</th>        <th class=\"col_heading level0 col4\" >R2</th>        <th class=\"col_heading level0 col5\" >RMSLE</th>        <th class=\"col_heading level0 col6\" >MAPE</th>    </tr></thead><tbody>\n",
       "                <tr>\n",
       "                        <th id=\"T_89cfab30_b624_11ea_a84e_feee2f6eb5c0level0_row0\" class=\"row_heading level0 row0\" >0</th>\n",
       "                        <td id=\"T_89cfab30_b624_11ea_a84e_feee2f6eb5c0row0_col0\" class=\"data row0 col0\" >Gradient Boosting Regressor</td>\n",
       "                        <td id=\"T_89cfab30_b624_11ea_a84e_feee2f6eb5c0row0_col1\" class=\"data row0 col1\" >3.6177</td>\n",
       "                        <td id=\"T_89cfab30_b624_11ea_a84e_feee2f6eb5c0row0_col2\" class=\"data row0 col2\" >692.005</td>\n",
       "                        <td id=\"T_89cfab30_b624_11ea_a84e_feee2f6eb5c0row0_col3\" class=\"data row0 col3\" >15.4048</td>\n",
       "                        <td id=\"T_89cfab30_b624_11ea_a84e_feee2f6eb5c0row0_col4\" class=\"data row0 col4\" >0.9553</td>\n",
       "                        <td id=\"T_89cfab30_b624_11ea_a84e_feee2f6eb5c0row0_col5\" class=\"data row0 col5\" >0.0524</td>\n",
       "                        <td id=\"T_89cfab30_b624_11ea_a84e_feee2f6eb5c0row0_col6\" class=\"data row0 col6\" >0.0328</td>\n",
       "            </tr>\n",
       "            <tr>\n",
       "                        <th id=\"T_89cfab30_b624_11ea_a84e_feee2f6eb5c0level0_row1\" class=\"row_heading level0 row1\" >1</th>\n",
       "                        <td id=\"T_89cfab30_b624_11ea_a84e_feee2f6eb5c0row1_col0\" class=\"data row1 col0\" >Extreme Gradient Boosting</td>\n",
       "                        <td id=\"T_89cfab30_b624_11ea_a84e_feee2f6eb5c0row1_col1\" class=\"data row1 col1\" >4.464</td>\n",
       "                        <td id=\"T_89cfab30_b624_11ea_a84e_feee2f6eb5c0row1_col2\" class=\"data row1 col2\" >736.478</td>\n",
       "                        <td id=\"T_89cfab30_b624_11ea_a84e_feee2f6eb5c0row1_col3\" class=\"data row1 col3\" >17.3522</td>\n",
       "                        <td id=\"T_89cfab30_b624_11ea_a84e_feee2f6eb5c0row1_col4\" class=\"data row1 col4\" >0.9489</td>\n",
       "                        <td id=\"T_89cfab30_b624_11ea_a84e_feee2f6eb5c0row1_col5\" class=\"data row1 col5\" >0.0712</td>\n",
       "                        <td id=\"T_89cfab30_b624_11ea_a84e_feee2f6eb5c0row1_col6\" class=\"data row1 col6\" >0.0438</td>\n",
       "            </tr>\n",
       "            <tr>\n",
       "                        <th id=\"T_89cfab30_b624_11ea_a84e_feee2f6eb5c0level0_row2\" class=\"row_heading level0 row2\" >2</th>\n",
       "                        <td id=\"T_89cfab30_b624_11ea_a84e_feee2f6eb5c0row2_col0\" class=\"data row2 col0\" >Random Forest</td>\n",
       "                        <td id=\"T_89cfab30_b624_11ea_a84e_feee2f6eb5c0row2_col1\" class=\"data row2 col1\" >2.258</td>\n",
       "                        <td id=\"T_89cfab30_b624_11ea_a84e_feee2f6eb5c0row2_col2\" class=\"data row2 col2\" >825.158</td>\n",
       "                        <td id=\"T_89cfab30_b624_11ea_a84e_feee2f6eb5c0row2_col3\" class=\"data row2 col3\" >16.9039</td>\n",
       "                        <td id=\"T_89cfab30_b624_11ea_a84e_feee2f6eb5c0row2_col4\" class=\"data row2 col4\" >0.9457</td>\n",
       "                        <td id=\"T_89cfab30_b624_11ea_a84e_feee2f6eb5c0row2_col5\" class=\"data row2 col5\" >0.0346</td>\n",
       "                        <td id=\"T_89cfab30_b624_11ea_a84e_feee2f6eb5c0row2_col6\" class=\"data row2 col6\" >0.0115</td>\n",
       "            </tr>\n",
       "            <tr>\n",
       "                        <th id=\"T_89cfab30_b624_11ea_a84e_feee2f6eb5c0level0_row3\" class=\"row_heading level0 row3\" >3</th>\n",
       "                        <td id=\"T_89cfab30_b624_11ea_a84e_feee2f6eb5c0row3_col0\" class=\"data row3 col0\" >Extra Trees Regressor</td>\n",
       "                        <td id=\"T_89cfab30_b624_11ea_a84e_feee2f6eb5c0row3_col1\" class=\"data row3 col1\" >2.4932</td>\n",
       "                        <td id=\"T_89cfab30_b624_11ea_a84e_feee2f6eb5c0row3_col2\" class=\"data row3 col2\" >811.914</td>\n",
       "                        <td id=\"T_89cfab30_b624_11ea_a84e_feee2f6eb5c0row3_col3\" class=\"data row3 col3\" >18.5178</td>\n",
       "                        <td id=\"T_89cfab30_b624_11ea_a84e_feee2f6eb5c0row3_col4\" class=\"data row3 col4\" >0.942</td>\n",
       "                        <td id=\"T_89cfab30_b624_11ea_a84e_feee2f6eb5c0row3_col5\" class=\"data row3 col5\" >0.0405</td>\n",
       "                        <td id=\"T_89cfab30_b624_11ea_a84e_feee2f6eb5c0row3_col6\" class=\"data row3 col6\" >0.0126</td>\n",
       "            </tr>\n",
       "            <tr>\n",
       "                        <th id=\"T_89cfab30_b624_11ea_a84e_feee2f6eb5c0level0_row4\" class=\"row_heading level0 row4\" >4</th>\n",
       "                        <td id=\"T_89cfab30_b624_11ea_a84e_feee2f6eb5c0row4_col0\" class=\"data row4 col0\" >Ridge Regression</td>\n",
       "                        <td id=\"T_89cfab30_b624_11ea_a84e_feee2f6eb5c0row4_col1\" class=\"data row4 col1\" >9.8939</td>\n",
       "                        <td id=\"T_89cfab30_b624_11ea_a84e_feee2f6eb5c0row4_col2\" class=\"data row4 col2\" >510.351</td>\n",
       "                        <td id=\"T_89cfab30_b624_11ea_a84e_feee2f6eb5c0row4_col3\" class=\"data row4 col3\" >21.6894</td>\n",
       "                        <td id=\"T_89cfab30_b624_11ea_a84e_feee2f6eb5c0row4_col4\" class=\"data row4 col4\" >0.935</td>\n",
       "                        <td id=\"T_89cfab30_b624_11ea_a84e_feee2f6eb5c0row4_col5\" class=\"data row4 col5\" >0.279</td>\n",
       "                        <td id=\"T_89cfab30_b624_11ea_a84e_feee2f6eb5c0row4_col6\" class=\"data row4 col6\" >0.1299</td>\n",
       "            </tr>\n",
       "            <tr>\n",
       "                        <th id=\"T_89cfab30_b624_11ea_a84e_feee2f6eb5c0level0_row5\" class=\"row_heading level0 row5\" >5</th>\n",
       "                        <td id=\"T_89cfab30_b624_11ea_a84e_feee2f6eb5c0row5_col0\" class=\"data row5 col0\" >Orthogonal Matching Pursuit</td>\n",
       "                        <td id=\"T_89cfab30_b624_11ea_a84e_feee2f6eb5c0row5_col1\" class=\"data row5 col1\" >10.1638</td>\n",
       "                        <td id=\"T_89cfab30_b624_11ea_a84e_feee2f6eb5c0row5_col2\" class=\"data row5 col2\" >515.032</td>\n",
       "                        <td id=\"T_89cfab30_b624_11ea_a84e_feee2f6eb5c0row5_col3\" class=\"data row5 col3\" >21.8326</td>\n",
       "                        <td id=\"T_89cfab30_b624_11ea_a84e_feee2f6eb5c0row5_col4\" class=\"data row5 col4\" >0.9337</td>\n",
       "                        <td id=\"T_89cfab30_b624_11ea_a84e_feee2f6eb5c0row5_col5\" class=\"data row5 col5\" >0.2844</td>\n",
       "                        <td id=\"T_89cfab30_b624_11ea_a84e_feee2f6eb5c0row5_col6\" class=\"data row5 col6\" >0.1358</td>\n",
       "            </tr>\n",
       "            <tr>\n",
       "                        <th id=\"T_89cfab30_b624_11ea_a84e_feee2f6eb5c0level0_row6\" class=\"row_heading level0 row6\" >6</th>\n",
       "                        <td id=\"T_89cfab30_b624_11ea_a84e_feee2f6eb5c0row6_col0\" class=\"data row6 col0\" >Bayesian Ridge</td>\n",
       "                        <td id=\"T_89cfab30_b624_11ea_a84e_feee2f6eb5c0row6_col1\" class=\"data row6 col1\" >9.9368</td>\n",
       "                        <td id=\"T_89cfab30_b624_11ea_a84e_feee2f6eb5c0row6_col2\" class=\"data row6 col2\" >529.706</td>\n",
       "                        <td id=\"T_89cfab30_b624_11ea_a84e_feee2f6eb5c0row6_col3\" class=\"data row6 col3\" >22.0433</td>\n",
       "                        <td id=\"T_89cfab30_b624_11ea_a84e_feee2f6eb5c0row6_col4\" class=\"data row6 col4\" >0.933</td>\n",
       "                        <td id=\"T_89cfab30_b624_11ea_a84e_feee2f6eb5c0row6_col5\" class=\"data row6 col5\" >0.2779</td>\n",
       "                        <td id=\"T_89cfab30_b624_11ea_a84e_feee2f6eb5c0row6_col6\" class=\"data row6 col6\" >0.1294</td>\n",
       "            </tr>\n",
       "            <tr>\n",
       "                        <th id=\"T_89cfab30_b624_11ea_a84e_feee2f6eb5c0level0_row7\" class=\"row_heading level0 row7\" >7</th>\n",
       "                        <td id=\"T_89cfab30_b624_11ea_a84e_feee2f6eb5c0row7_col0\" class=\"data row7 col0\" >TheilSen Regressor</td>\n",
       "                        <td id=\"T_89cfab30_b624_11ea_a84e_feee2f6eb5c0row7_col1\" class=\"data row7 col1\" >9.5216</td>\n",
       "                        <td id=\"T_89cfab30_b624_11ea_a84e_feee2f6eb5c0row7_col2\" class=\"data row7 col2\" >551.793</td>\n",
       "                        <td id=\"T_89cfab30_b624_11ea_a84e_feee2f6eb5c0row7_col3\" class=\"data row7 col3\" >22.2792</td>\n",
       "                        <td id=\"T_89cfab30_b624_11ea_a84e_feee2f6eb5c0row7_col4\" class=\"data row7 col4\" >0.9319</td>\n",
       "                        <td id=\"T_89cfab30_b624_11ea_a84e_feee2f6eb5c0row7_col5\" class=\"data row7 col5\" >0.2817</td>\n",
       "                        <td id=\"T_89cfab30_b624_11ea_a84e_feee2f6eb5c0row7_col6\" class=\"data row7 col6\" >0.1238</td>\n",
       "            </tr>\n",
       "            <tr>\n",
       "                        <th id=\"T_89cfab30_b624_11ea_a84e_feee2f6eb5c0level0_row8\" class=\"row_heading level0 row8\" >8</th>\n",
       "                        <td id=\"T_89cfab30_b624_11ea_a84e_feee2f6eb5c0row8_col0\" class=\"data row8 col0\" >Huber Regressor</td>\n",
       "                        <td id=\"T_89cfab30_b624_11ea_a84e_feee2f6eb5c0row8_col1\" class=\"data row8 col1\" >8.1462</td>\n",
       "                        <td id=\"T_89cfab30_b624_11ea_a84e_feee2f6eb5c0row8_col2\" class=\"data row8 col2\" >593.918</td>\n",
       "                        <td id=\"T_89cfab30_b624_11ea_a84e_feee2f6eb5c0row8_col3\" class=\"data row8 col3\" >23.0908</td>\n",
       "                        <td id=\"T_89cfab30_b624_11ea_a84e_feee2f6eb5c0row8_col4\" class=\"data row8 col4\" >0.9257</td>\n",
       "                        <td id=\"T_89cfab30_b624_11ea_a84e_feee2f6eb5c0row8_col5\" class=\"data row8 col5\" >0.1932</td>\n",
       "                        <td id=\"T_89cfab30_b624_11ea_a84e_feee2f6eb5c0row8_col6\" class=\"data row8 col6\" >0.0847</td>\n",
       "            </tr>\n",
       "            <tr>\n",
       "                        <th id=\"T_89cfab30_b624_11ea_a84e_feee2f6eb5c0level0_row9\" class=\"row_heading level0 row9\" >9</th>\n",
       "                        <td id=\"T_89cfab30_b624_11ea_a84e_feee2f6eb5c0row9_col0\" class=\"data row9 col0\" >Decision Tree</td>\n",
       "                        <td id=\"T_89cfab30_b624_11ea_a84e_feee2f6eb5c0row9_col1\" class=\"data row9 col1\" >3.8785</td>\n",
       "                        <td id=\"T_89cfab30_b624_11ea_a84e_feee2f6eb5c0row9_col2\" class=\"data row9 col2\" >990.413</td>\n",
       "                        <td id=\"T_89cfab30_b624_11ea_a84e_feee2f6eb5c0row9_col3\" class=\"data row9 col3\" >22.3059</td>\n",
       "                        <td id=\"T_89cfab30_b624_11ea_a84e_feee2f6eb5c0row9_col4\" class=\"data row9 col4\" >0.925</td>\n",
       "                        <td id=\"T_89cfab30_b624_11ea_a84e_feee2f6eb5c0row9_col5\" class=\"data row9 col5\" >0.0543</td>\n",
       "                        <td id=\"T_89cfab30_b624_11ea_a84e_feee2f6eb5c0row9_col6\" class=\"data row9 col6\" >0.0228</td>\n",
       "            </tr>\n",
       "            <tr>\n",
       "                        <th id=\"T_89cfab30_b624_11ea_a84e_feee2f6eb5c0level0_row10\" class=\"row_heading level0 row10\" >10</th>\n",
       "                        <td id=\"T_89cfab30_b624_11ea_a84e_feee2f6eb5c0row10_col0\" class=\"data row10 col0\" >Lasso Regression</td>\n",
       "                        <td id=\"T_89cfab30_b624_11ea_a84e_feee2f6eb5c0row10_col1\" class=\"data row10 col1\" >11.1203</td>\n",
       "                        <td id=\"T_89cfab30_b624_11ea_a84e_feee2f6eb5c0row10_col2\" class=\"data row10 col2\" >581.635</td>\n",
       "                        <td id=\"T_89cfab30_b624_11ea_a84e_feee2f6eb5c0row10_col3\" class=\"data row10 col3\" >23.1951</td>\n",
       "                        <td id=\"T_89cfab30_b624_11ea_a84e_feee2f6eb5c0row10_col4\" class=\"data row10 col4\" >0.9243</td>\n",
       "                        <td id=\"T_89cfab30_b624_11ea_a84e_feee2f6eb5c0row10_col5\" class=\"data row10 col5\" >0.3444</td>\n",
       "                        <td id=\"T_89cfab30_b624_11ea_a84e_feee2f6eb5c0row10_col6\" class=\"data row10 col6\" >0.168</td>\n",
       "            </tr>\n",
       "            <tr>\n",
       "                        <th id=\"T_89cfab30_b624_11ea_a84e_feee2f6eb5c0level0_row11\" class=\"row_heading level0 row11\" >11</th>\n",
       "                        <td id=\"T_89cfab30_b624_11ea_a84e_feee2f6eb5c0row11_col0\" class=\"data row11 col0\" >Light Gradient Boosting Machine</td>\n",
       "                        <td id=\"T_89cfab30_b624_11ea_a84e_feee2f6eb5c0row11_col1\" class=\"data row11 col1\" >3.6526</td>\n",
       "                        <td id=\"T_89cfab30_b624_11ea_a84e_feee2f6eb5c0row11_col2\" class=\"data row11 col2\" >996.874</td>\n",
       "                        <td id=\"T_89cfab30_b624_11ea_a84e_feee2f6eb5c0row11_col3\" class=\"data row11 col3\" >22.6665</td>\n",
       "                        <td id=\"T_89cfab30_b624_11ea_a84e_feee2f6eb5c0row11_col4\" class=\"data row11 col4\" >0.9228</td>\n",
       "                        <td id=\"T_89cfab30_b624_11ea_a84e_feee2f6eb5c0row11_col5\" class=\"data row11 col5\" >0.0511</td>\n",
       "                        <td id=\"T_89cfab30_b624_11ea_a84e_feee2f6eb5c0row11_col6\" class=\"data row11 col6\" >0.0216</td>\n",
       "            </tr>\n",
       "            <tr>\n",
       "                        <th id=\"T_89cfab30_b624_11ea_a84e_feee2f6eb5c0level0_row12\" class=\"row_heading level0 row12\" >12</th>\n",
       "                        <td id=\"T_89cfab30_b624_11ea_a84e_feee2f6eb5c0row12_col0\" class=\"data row12 col0\" >Passive Aggressive Regressor</td>\n",
       "                        <td id=\"T_89cfab30_b624_11ea_a84e_feee2f6eb5c0row12_col1\" class=\"data row12 col1\" >9.6274</td>\n",
       "                        <td id=\"T_89cfab30_b624_11ea_a84e_feee2f6eb5c0row12_col2\" class=\"data row12 col2\" >646.067</td>\n",
       "                        <td id=\"T_89cfab30_b624_11ea_a84e_feee2f6eb5c0row12_col3\" class=\"data row12 col3\" >24.2569</td>\n",
       "                        <td id=\"T_89cfab30_b624_11ea_a84e_feee2f6eb5c0row12_col4\" class=\"data row12 col4\" >0.9176</td>\n",
       "                        <td id=\"T_89cfab30_b624_11ea_a84e_feee2f6eb5c0row12_col5\" class=\"data row12 col5\" >0.2271</td>\n",
       "                        <td id=\"T_89cfab30_b624_11ea_a84e_feee2f6eb5c0row12_col6\" class=\"data row12 col6\" >0.1052</td>\n",
       "            </tr>\n",
       "            <tr>\n",
       "                        <th id=\"T_89cfab30_b624_11ea_a84e_feee2f6eb5c0level0_row13\" class=\"row_heading level0 row13\" >13</th>\n",
       "                        <td id=\"T_89cfab30_b624_11ea_a84e_feee2f6eb5c0row13_col0\" class=\"data row13 col0\" >K Neighbors Regressor</td>\n",
       "                        <td id=\"T_89cfab30_b624_11ea_a84e_feee2f6eb5c0row13_col1\" class=\"data row13 col1\" >9.0481</td>\n",
       "                        <td id=\"T_89cfab30_b624_11ea_a84e_feee2f6eb5c0row13_col2\" class=\"data row13 col2\" >947.193</td>\n",
       "                        <td id=\"T_89cfab30_b624_11ea_a84e_feee2f6eb5c0row13_col3\" class=\"data row13 col3\" >25.3459</td>\n",
       "                        <td id=\"T_89cfab30_b624_11ea_a84e_feee2f6eb5c0row13_col4\" class=\"data row13 col4\" >0.9116</td>\n",
       "                        <td id=\"T_89cfab30_b624_11ea_a84e_feee2f6eb5c0row13_col5\" class=\"data row13 col5\" >0.1279</td>\n",
       "                        <td id=\"T_89cfab30_b624_11ea_a84e_feee2f6eb5c0row13_col6\" class=\"data row13 col6\" >0.0849</td>\n",
       "            </tr>\n",
       "            <tr>\n",
       "                        <th id=\"T_89cfab30_b624_11ea_a84e_feee2f6eb5c0level0_row14\" class=\"row_heading level0 row14\" >14</th>\n",
       "                        <td id=\"T_89cfab30_b624_11ea_a84e_feee2f6eb5c0row14_col0\" class=\"data row14 col0\" >Elastic Net</td>\n",
       "                        <td id=\"T_89cfab30_b624_11ea_a84e_feee2f6eb5c0row14_col1\" class=\"data row14 col1\" >13.1258</td>\n",
       "                        <td id=\"T_89cfab30_b624_11ea_a84e_feee2f6eb5c0row14_col2\" class=\"data row14 col2\" >1146.71</td>\n",
       "                        <td id=\"T_89cfab30_b624_11ea_a84e_feee2f6eb5c0row14_col3\" class=\"data row14 col3\" >31.8405</td>\n",
       "                        <td id=\"T_89cfab30_b624_11ea_a84e_feee2f6eb5c0row14_col4\" class=\"data row14 col4\" >0.8617</td>\n",
       "                        <td id=\"T_89cfab30_b624_11ea_a84e_feee2f6eb5c0row14_col5\" class=\"data row14 col5\" >0.1585</td>\n",
       "                        <td id=\"T_89cfab30_b624_11ea_a84e_feee2f6eb5c0row14_col6\" class=\"data row14 col6\" >0.1235</td>\n",
       "            </tr>\n",
       "            <tr>\n",
       "                        <th id=\"T_89cfab30_b624_11ea_a84e_feee2f6eb5c0level0_row15\" class=\"row_heading level0 row15\" >15</th>\n",
       "                        <td id=\"T_89cfab30_b624_11ea_a84e_feee2f6eb5c0row15_col0\" class=\"data row15 col0\" >CatBoost Regressor</td>\n",
       "                        <td id=\"T_89cfab30_b624_11ea_a84e_feee2f6eb5c0row15_col1\" class=\"data row15 col1\" >3.4884</td>\n",
       "                        <td id=\"T_89cfab30_b624_11ea_a84e_feee2f6eb5c0row15_col2\" class=\"data row15 col2\" >1683.44</td>\n",
       "                        <td id=\"T_89cfab30_b624_11ea_a84e_feee2f6eb5c0row15_col3\" class=\"data row15 col3\" >29.3822</td>\n",
       "                        <td id=\"T_89cfab30_b624_11ea_a84e_feee2f6eb5c0row15_col4\" class=\"data row15 col4\" >0.8237</td>\n",
       "                        <td id=\"T_89cfab30_b624_11ea_a84e_feee2f6eb5c0row15_col5\" class=\"data row15 col5\" >0.0499</td>\n",
       "                        <td id=\"T_89cfab30_b624_11ea_a84e_feee2f6eb5c0row15_col6\" class=\"data row15 col6\" >0.02</td>\n",
       "            </tr>\n",
       "            <tr>\n",
       "                        <th id=\"T_89cfab30_b624_11ea_a84e_feee2f6eb5c0level0_row16\" class=\"row_heading level0 row16\" >16</th>\n",
       "                        <td id=\"T_89cfab30_b624_11ea_a84e_feee2f6eb5c0row16_col0\" class=\"data row16 col0\" >AdaBoost Regressor</td>\n",
       "                        <td id=\"T_89cfab30_b624_11ea_a84e_feee2f6eb5c0row16_col1\" class=\"data row16 col1\" >37.9744</td>\n",
       "                        <td id=\"T_89cfab30_b624_11ea_a84e_feee2f6eb5c0row16_col2\" class=\"data row16 col2\" >2611.01</td>\n",
       "                        <td id=\"T_89cfab30_b624_11ea_a84e_feee2f6eb5c0row16_col3\" class=\"data row16 col3\" >49.2977</td>\n",
       "                        <td id=\"T_89cfab30_b624_11ea_a84e_feee2f6eb5c0row16_col4\" class=\"data row16 col4\" >0.651</td>\n",
       "                        <td id=\"T_89cfab30_b624_11ea_a84e_feee2f6eb5c0row16_col5\" class=\"data row16 col5\" >0.5422</td>\n",
       "                        <td id=\"T_89cfab30_b624_11ea_a84e_feee2f6eb5c0row16_col6\" class=\"data row16 col6\" >0.6648</td>\n",
       "            </tr>\n",
       "            <tr>\n",
       "                        <th id=\"T_89cfab30_b624_11ea_a84e_feee2f6eb5c0level0_row17\" class=\"row_heading level0 row17\" >17</th>\n",
       "                        <td id=\"T_89cfab30_b624_11ea_a84e_feee2f6eb5c0row17_col0\" class=\"data row17 col0\" >Support Vector Machine</td>\n",
       "                        <td id=\"T_89cfab30_b624_11ea_a84e_feee2f6eb5c0row17_col1\" class=\"data row17 col1\" >12.7606</td>\n",
       "                        <td id=\"T_89cfab30_b624_11ea_a84e_feee2f6eb5c0row17_col2\" class=\"data row17 col2\" >3556.47</td>\n",
       "                        <td id=\"T_89cfab30_b624_11ea_a84e_feee2f6eb5c0row17_col3\" class=\"data row17 col3\" >54.2207</td>\n",
       "                        <td id=\"T_89cfab30_b624_11ea_a84e_feee2f6eb5c0row17_col4\" class=\"data row17 col4\" >0.6082</td>\n",
       "                        <td id=\"T_89cfab30_b624_11ea_a84e_feee2f6eb5c0row17_col5\" class=\"data row17 col5\" >0.1928</td>\n",
       "                        <td id=\"T_89cfab30_b624_11ea_a84e_feee2f6eb5c0row17_col6\" class=\"data row17 col6\" >0.0738</td>\n",
       "            </tr>\n",
       "            <tr>\n",
       "                        <th id=\"T_89cfab30_b624_11ea_a84e_feee2f6eb5c0level0_row18\" class=\"row_heading level0 row18\" >18</th>\n",
       "                        <td id=\"T_89cfab30_b624_11ea_a84e_feee2f6eb5c0row18_col0\" class=\"data row18 col0\" >Lasso Least Angle Regression</td>\n",
       "                        <td id=\"T_89cfab30_b624_11ea_a84e_feee2f6eb5c0row18_col1\" class=\"data row18 col1\" >45.0076</td>\n",
       "                        <td id=\"T_89cfab30_b624_11ea_a84e_feee2f6eb5c0row18_col2\" class=\"data row18 col2\" >5882.74</td>\n",
       "                        <td id=\"T_89cfab30_b624_11ea_a84e_feee2f6eb5c0row18_col3\" class=\"data row18 col3\" >74.3597</td>\n",
       "                        <td id=\"T_89cfab30_b624_11ea_a84e_feee2f6eb5c0row18_col4\" class=\"data row18 col4\" >0.2309</td>\n",
       "                        <td id=\"T_89cfab30_b624_11ea_a84e_feee2f6eb5c0row18_col5\" class=\"data row18 col5\" >0.5803</td>\n",
       "                        <td id=\"T_89cfab30_b624_11ea_a84e_feee2f6eb5c0row18_col6\" class=\"data row18 col6\" >0.6256</td>\n",
       "            </tr>\n",
       "            <tr>\n",
       "                        <th id=\"T_89cfab30_b624_11ea_a84e_feee2f6eb5c0level0_row19\" class=\"row_heading level0 row19\" >19</th>\n",
       "                        <td id=\"T_89cfab30_b624_11ea_a84e_feee2f6eb5c0row19_col0\" class=\"data row19 col0\" >Linear Regression</td>\n",
       "                        <td id=\"T_89cfab30_b624_11ea_a84e_feee2f6eb5c0row19_col1\" class=\"data row19 col1\" >4.0327e+09</td>\n",
       "                        <td id=\"T_89cfab30_b624_11ea_a84e_feee2f6eb5c0row19_col2\" class=\"data row19 col2\" >9.27418e+21</td>\n",
       "                        <td id=\"T_89cfab30_b624_11ea_a84e_feee2f6eb5c0row19_col3\" class=\"data row19 col3\" >6.91699e+10</td>\n",
       "                        <td id=\"T_89cfab30_b624_11ea_a84e_feee2f6eb5c0row19_col4\" class=\"data row19 col4\" >-1.36221e+18</td>\n",
       "                        <td id=\"T_89cfab30_b624_11ea_a84e_feee2f6eb5c0row19_col5\" class=\"data row19 col5\" >1.0231</td>\n",
       "                        <td id=\"T_89cfab30_b624_11ea_a84e_feee2f6eb5c0row19_col6\" class=\"data row19 col6\" >3.19764e+07</td>\n",
       "            </tr>\n",
       "            <tr>\n",
       "                        <th id=\"T_89cfab30_b624_11ea_a84e_feee2f6eb5c0level0_row20\" class=\"row_heading level0 row20\" >20</th>\n",
       "                        <td id=\"T_89cfab30_b624_11ea_a84e_feee2f6eb5c0row20_col0\" class=\"data row20 col0\" >Random Sample Consensus</td>\n",
       "                        <td id=\"T_89cfab30_b624_11ea_a84e_feee2f6eb5c0row20_col1\" class=\"data row20 col1\" >1.33692e+10</td>\n",
       "                        <td id=\"T_89cfab30_b624_11ea_a84e_feee2f6eb5c0row20_col2\" class=\"data row20 col2\" >1.04985e+23</td>\n",
       "                        <td id=\"T_89cfab30_b624_11ea_a84e_feee2f6eb5c0row20_col3\" class=\"data row20 col3\" >1.64732e+11</td>\n",
       "                        <td id=\"T_89cfab30_b624_11ea_a84e_feee2f6eb5c0row20_col4\" class=\"data row20 col4\" >-1.92538e+19</td>\n",
       "                        <td id=\"T_89cfab30_b624_11ea_a84e_feee2f6eb5c0row20_col5\" class=\"data row20 col5\" >1.8575</td>\n",
       "                        <td id=\"T_89cfab30_b624_11ea_a84e_feee2f6eb5c0row20_col6\" class=\"data row20 col6\" >8.95074e+07</td>\n",
       "            </tr>\n",
       "            <tr>\n",
       "                        <th id=\"T_89cfab30_b624_11ea_a84e_feee2f6eb5c0level0_row21\" class=\"row_heading level0 row21\" >21</th>\n",
       "                        <td id=\"T_89cfab30_b624_11ea_a84e_feee2f6eb5c0row21_col0\" class=\"data row21 col0\" >Least Angle Regression</td>\n",
       "                        <td id=\"T_89cfab30_b624_11ea_a84e_feee2f6eb5c0row21_col1\" class=\"data row21 col1\" >2.19333e+19</td>\n",
       "                        <td id=\"T_89cfab30_b624_11ea_a84e_feee2f6eb5c0row21_col2\" class=\"data row21 col2\" >1.1903e+42</td>\n",
       "                        <td id=\"T_89cfab30_b624_11ea_a84e_feee2f6eb5c0row21_col3\" class=\"data row21 col3\" >3.98557e+20</td>\n",
       "                        <td id=\"T_89cfab30_b624_11ea_a84e_feee2f6eb5c0row21_col4\" class=\"data row21 col4\" >-2.47603e+38</td>\n",
       "                        <td id=\"T_89cfab30_b624_11ea_a84e_feee2f6eb5c0row21_col5\" class=\"data row21 col5\" >4.7785</td>\n",
       "                        <td id=\"T_89cfab30_b624_11ea_a84e_feee2f6eb5c0row21_col6\" class=\"data row21 col6\" >7.56129e+16</td>\n",
       "            </tr>\n",
       "    </tbody></table>"
      ],
      "text/plain": [
       "<pandas.io.formats.style.Styler at 0x1ffcdf89488>"
      ]
     },
     "execution_count": 53,
     "metadata": {},
     "output_type": "execute_result"
    }
   ],
   "source": [
    "compare_models()\n"
   ]
  },
  {
   "cell_type": "markdown",
   "metadata": {},
   "source": [
    "### From above we will choose Gradient boosting model as it having higher R2 and lower RMSE"
   ]
  },
  {
   "cell_type": "code",
   "execution_count": 59,
   "metadata": {
    "scrolled": true
   },
   "outputs": [
    {
     "data": {
      "text/html": [
       "<div>\n",
       "<style scoped>\n",
       "    .dataframe tbody tr th:only-of-type {\n",
       "        vertical-align: middle;\n",
       "    }\n",
       "\n",
       "    .dataframe tbody tr th {\n",
       "        vertical-align: top;\n",
       "    }\n",
       "\n",
       "    .dataframe thead th {\n",
       "        text-align: right;\n",
       "    }\n",
       "</style>\n",
       "<table border=\"1\" class=\"dataframe\">\n",
       "  <thead>\n",
       "    <tr style=\"text-align: right;\">\n",
       "      <th></th>\n",
       "      <th>MAE</th>\n",
       "      <th>MSE</th>\n",
       "      <th>RMSE</th>\n",
       "      <th>R2</th>\n",
       "      <th>RMSLE</th>\n",
       "      <th>MAPE</th>\n",
       "    </tr>\n",
       "  </thead>\n",
       "  <tbody>\n",
       "    <tr>\n",
       "      <th>0</th>\n",
       "      <td>3.0509</td>\n",
       "      <td>71.9625</td>\n",
       "      <td>8.4831</td>\n",
       "      <td>0.9898</td>\n",
       "      <td>0.0450</td>\n",
       "      <td>0.0298</td>\n",
       "    </tr>\n",
       "    <tr>\n",
       "      <th>1</th>\n",
       "      <td>2.9845</td>\n",
       "      <td>62.0490</td>\n",
       "      <td>7.8771</td>\n",
       "      <td>0.9858</td>\n",
       "      <td>0.0574</td>\n",
       "      <td>0.0343</td>\n",
       "    </tr>\n",
       "    <tr>\n",
       "      <th>2</th>\n",
       "      <td>2.9039</td>\n",
       "      <td>31.1931</td>\n",
       "      <td>5.5851</td>\n",
       "      <td>0.9935</td>\n",
       "      <td>0.0548</td>\n",
       "      <td>0.0346</td>\n",
       "    </tr>\n",
       "    <tr>\n",
       "      <th>3</th>\n",
       "      <td>3.7212</td>\n",
       "      <td>473.5800</td>\n",
       "      <td>21.7619</td>\n",
       "      <td>0.9528</td>\n",
       "      <td>0.0514</td>\n",
       "      <td>0.0301</td>\n",
       "    </tr>\n",
       "    <tr>\n",
       "      <th>4</th>\n",
       "      <td>6.8823</td>\n",
       "      <td>6234.7037</td>\n",
       "      <td>78.9601</td>\n",
       "      <td>0.6569</td>\n",
       "      <td>0.0858</td>\n",
       "      <td>0.0310</td>\n",
       "    </tr>\n",
       "    <tr>\n",
       "      <th>5</th>\n",
       "      <td>2.7218</td>\n",
       "      <td>42.5407</td>\n",
       "      <td>6.5223</td>\n",
       "      <td>0.9913</td>\n",
       "      <td>0.0462</td>\n",
       "      <td>0.0302</td>\n",
       "    </tr>\n",
       "    <tr>\n",
       "      <th>6</th>\n",
       "      <td>2.5056</td>\n",
       "      <td>18.8347</td>\n",
       "      <td>4.3399</td>\n",
       "      <td>0.9961</td>\n",
       "      <td>0.0429</td>\n",
       "      <td>0.0299</td>\n",
       "    </tr>\n",
       "    <tr>\n",
       "      <th>7</th>\n",
       "      <td>3.2650</td>\n",
       "      <td>60.7420</td>\n",
       "      <td>7.7937</td>\n",
       "      <td>0.9932</td>\n",
       "      <td>0.0536</td>\n",
       "      <td>0.0334</td>\n",
       "    </tr>\n",
       "    <tr>\n",
       "      <th>8</th>\n",
       "      <td>2.4729</td>\n",
       "      <td>16.7848</td>\n",
       "      <td>4.0969</td>\n",
       "      <td>0.9976</td>\n",
       "      <td>0.0384</td>\n",
       "      <td>0.0265</td>\n",
       "    </tr>\n",
       "    <tr>\n",
       "      <th>9</th>\n",
       "      <td>2.5466</td>\n",
       "      <td>17.4779</td>\n",
       "      <td>4.1807</td>\n",
       "      <td>0.9967</td>\n",
       "      <td>0.0455</td>\n",
       "      <td>0.0313</td>\n",
       "    </tr>\n",
       "    <tr>\n",
       "      <th>Mean</th>\n",
       "      <td>3.3055</td>\n",
       "      <td>702.9868</td>\n",
       "      <td>14.9601</td>\n",
       "      <td>0.9554</td>\n",
       "      <td>0.0521</td>\n",
       "      <td>0.0311</td>\n",
       "    </tr>\n",
       "    <tr>\n",
       "      <th>SD</th>\n",
       "      <td>1.2469</td>\n",
       "      <td>1848.5223</td>\n",
       "      <td>21.8902</td>\n",
       "      <td>0.1003</td>\n",
       "      <td>0.0125</td>\n",
       "      <td>0.0023</td>\n",
       "    </tr>\n",
       "  </tbody>\n",
       "</table>\n",
       "</div>"
      ],
      "text/plain": [
       "         MAE        MSE     RMSE      R2   RMSLE    MAPE\n",
       "0     3.0509    71.9625   8.4831  0.9898  0.0450  0.0298\n",
       "1     2.9845    62.0490   7.8771  0.9858  0.0574  0.0343\n",
       "2     2.9039    31.1931   5.5851  0.9935  0.0548  0.0346\n",
       "3     3.7212   473.5800  21.7619  0.9528  0.0514  0.0301\n",
       "4     6.8823  6234.7037  78.9601  0.6569  0.0858  0.0310\n",
       "5     2.7218    42.5407   6.5223  0.9913  0.0462  0.0302\n",
       "6     2.5056    18.8347   4.3399  0.9961  0.0429  0.0299\n",
       "7     3.2650    60.7420   7.7937  0.9932  0.0536  0.0334\n",
       "8     2.4729    16.7848   4.0969  0.9976  0.0384  0.0265\n",
       "9     2.5466    17.4779   4.1807  0.9967  0.0455  0.0313\n",
       "Mean  3.3055   702.9868  14.9601  0.9554  0.0521  0.0311\n",
       "SD    1.2469  1848.5223  21.8902  0.1003  0.0125  0.0023"
      ]
     },
     "metadata": {},
     "output_type": "display_data"
    }
   ],
   "source": [
    "model=create_model('gbr',\n",
    "                   ensemble=True,\n",
    "                   method='Boosting',fold=10,\n",
    "                   round=4,)"
   ]
  },
  {
   "cell_type": "code",
   "execution_count": 60,
   "metadata": {},
   "outputs": [
    {
     "data": {
      "text/html": [
       "<div>\n",
       "<style scoped>\n",
       "    .dataframe tbody tr th:only-of-type {\n",
       "        vertical-align: middle;\n",
       "    }\n",
       "\n",
       "    .dataframe tbody tr th {\n",
       "        vertical-align: top;\n",
       "    }\n",
       "\n",
       "    .dataframe thead th {\n",
       "        text-align: right;\n",
       "    }\n",
       "</style>\n",
       "<table border=\"1\" class=\"dataframe\">\n",
       "  <thead>\n",
       "    <tr style=\"text-align: right;\">\n",
       "      <th></th>\n",
       "      <th>Model</th>\n",
       "      <th>MAE</th>\n",
       "      <th>MSE</th>\n",
       "      <th>RMSE</th>\n",
       "      <th>R2</th>\n",
       "      <th>RMSLE</th>\n",
       "      <th>MAPE</th>\n",
       "    </tr>\n",
       "  </thead>\n",
       "  <tbody>\n",
       "    <tr>\n",
       "      <th>0</th>\n",
       "      <td>Ada Boost Regressor</td>\n",
       "      <td>2.9803</td>\n",
       "      <td>51.6294</td>\n",
       "      <td>7.1854</td>\n",
       "      <td>0.9919</td>\n",
       "      <td>0.0537</td>\n",
       "      <td>0.0325</td>\n",
       "    </tr>\n",
       "  </tbody>\n",
       "</table>\n",
       "</div>"
      ],
      "text/plain": [
       "                 Model     MAE      MSE    RMSE      R2   RMSLE    MAPE\n",
       "0  Ada Boost Regressor  2.9803  51.6294  7.1854  0.9919  0.0537  0.0325"
      ]
     },
     "metadata": {},
     "output_type": "display_data"
    },
    {
     "data": {
      "text/html": [
       "<div>\n",
       "<style scoped>\n",
       "    .dataframe tbody tr th:only-of-type {\n",
       "        vertical-align: middle;\n",
       "    }\n",
       "\n",
       "    .dataframe tbody tr th {\n",
       "        vertical-align: top;\n",
       "    }\n",
       "\n",
       "    .dataframe thead th {\n",
       "        text-align: right;\n",
       "    }\n",
       "</style>\n",
       "<table border=\"1\" class=\"dataframe\">\n",
       "  <thead>\n",
       "    <tr style=\"text-align: right;\">\n",
       "      <th></th>\n",
       "      <th>total_sqft</th>\n",
       "      <th>price_per_sqft</th>\n",
       "      <th>location_1st Block Jayanagar</th>\n",
       "      <th>location_1st Phase JP Nagar</th>\n",
       "      <th>location_2nd Phase Judicial Layout</th>\n",
       "      <th>location_2nd Stage Nagarbhavi</th>\n",
       "      <th>location_5th Block Hbr Layout</th>\n",
       "      <th>location_5th Phase JP Nagar</th>\n",
       "      <th>location_6th Phase JP Nagar</th>\n",
       "      <th>location_7th Phase JP Nagar</th>\n",
       "      <th>...</th>\n",
       "      <th>bhk_1</th>\n",
       "      <th>bhk_2</th>\n",
       "      <th>bhk_3</th>\n",
       "      <th>bhk_4</th>\n",
       "      <th>bhk_5</th>\n",
       "      <th>bhk_6</th>\n",
       "      <th>bhk_8</th>\n",
       "      <th>bhk_9</th>\n",
       "      <th>price</th>\n",
       "      <th>Label</th>\n",
       "    </tr>\n",
       "  </thead>\n",
       "  <tbody>\n",
       "    <tr>\n",
       "      <th>0</th>\n",
       "      <td>-0.089487</td>\n",
       "      <td>-0.492071</td>\n",
       "      <td>0.0</td>\n",
       "      <td>0.0</td>\n",
       "      <td>0.0</td>\n",
       "      <td>0.0</td>\n",
       "      <td>0.0</td>\n",
       "      <td>0.0</td>\n",
       "      <td>0.0</td>\n",
       "      <td>0.0</td>\n",
       "      <td>...</td>\n",
       "      <td>0.0</td>\n",
       "      <td>1.0</td>\n",
       "      <td>0.0</td>\n",
       "      <td>0.0</td>\n",
       "      <td>0.0</td>\n",
       "      <td>0.0</td>\n",
       "      <td>0.0</td>\n",
       "      <td>0.0</td>\n",
       "      <td>69.30</td>\n",
       "      <td>67.4121</td>\n",
       "    </tr>\n",
       "    <tr>\n",
       "      <th>1</th>\n",
       "      <td>0.266382</td>\n",
       "      <td>1.153375</td>\n",
       "      <td>0.0</td>\n",
       "      <td>0.0</td>\n",
       "      <td>0.0</td>\n",
       "      <td>0.0</td>\n",
       "      <td>0.0</td>\n",
       "      <td>0.0</td>\n",
       "      <td>0.0</td>\n",
       "      <td>0.0</td>\n",
       "      <td>...</td>\n",
       "      <td>0.0</td>\n",
       "      <td>1.0</td>\n",
       "      <td>0.0</td>\n",
       "      <td>0.0</td>\n",
       "      <td>0.0</td>\n",
       "      <td>0.0</td>\n",
       "      <td>0.0</td>\n",
       "      <td>0.0</td>\n",
       "      <td>150.00</td>\n",
       "      <td>154.0539</td>\n",
       "    </tr>\n",
       "    <tr>\n",
       "      <th>2</th>\n",
       "      <td>0.182224</td>\n",
       "      <td>-1.247824</td>\n",
       "      <td>0.0</td>\n",
       "      <td>0.0</td>\n",
       "      <td>0.0</td>\n",
       "      <td>0.0</td>\n",
       "      <td>0.0</td>\n",
       "      <td>0.0</td>\n",
       "      <td>0.0</td>\n",
       "      <td>0.0</td>\n",
       "      <td>...</td>\n",
       "      <td>0.0</td>\n",
       "      <td>0.0</td>\n",
       "      <td>1.0</td>\n",
       "      <td>0.0</td>\n",
       "      <td>0.0</td>\n",
       "      <td>0.0</td>\n",
       "      <td>0.0</td>\n",
       "      <td>0.0</td>\n",
       "      <td>51.35</td>\n",
       "      <td>58.3128</td>\n",
       "    </tr>\n",
       "    <tr>\n",
       "      <th>3</th>\n",
       "      <td>0.340923</td>\n",
       "      <td>0.613608</td>\n",
       "      <td>0.0</td>\n",
       "      <td>0.0</td>\n",
       "      <td>0.0</td>\n",
       "      <td>0.0</td>\n",
       "      <td>0.0</td>\n",
       "      <td>0.0</td>\n",
       "      <td>0.0</td>\n",
       "      <td>0.0</td>\n",
       "      <td>...</td>\n",
       "      <td>0.0</td>\n",
       "      <td>0.0</td>\n",
       "      <td>1.0</td>\n",
       "      <td>0.0</td>\n",
       "      <td>0.0</td>\n",
       "      <td>0.0</td>\n",
       "      <td>0.0</td>\n",
       "      <td>0.0</td>\n",
       "      <td>133.00</td>\n",
       "      <td>131.3407</td>\n",
       "    </tr>\n",
       "    <tr>\n",
       "      <th>4</th>\n",
       "      <td>-0.393659</td>\n",
       "      <td>-0.996302</td>\n",
       "      <td>0.0</td>\n",
       "      <td>0.0</td>\n",
       "      <td>0.0</td>\n",
       "      <td>0.0</td>\n",
       "      <td>0.0</td>\n",
       "      <td>0.0</td>\n",
       "      <td>0.0</td>\n",
       "      <td>0.0</td>\n",
       "      <td>...</td>\n",
       "      <td>0.0</td>\n",
       "      <td>1.0</td>\n",
       "      <td>0.0</td>\n",
       "      <td>0.0</td>\n",
       "      <td>0.0</td>\n",
       "      <td>0.0</td>\n",
       "      <td>0.0</td>\n",
       "      <td>0.0</td>\n",
       "      <td>43.10</td>\n",
       "      <td>43.0410</td>\n",
       "    </tr>\n",
       "    <tr>\n",
       "      <th>...</th>\n",
       "      <td>...</td>\n",
       "      <td>...</td>\n",
       "      <td>...</td>\n",
       "      <td>...</td>\n",
       "      <td>...</td>\n",
       "      <td>...</td>\n",
       "      <td>...</td>\n",
       "      <td>...</td>\n",
       "      <td>...</td>\n",
       "      <td>...</td>\n",
       "      <td>...</td>\n",
       "      <td>...</td>\n",
       "      <td>...</td>\n",
       "      <td>...</td>\n",
       "      <td>...</td>\n",
       "      <td>...</td>\n",
       "      <td>...</td>\n",
       "      <td>...</td>\n",
       "      <td>...</td>\n",
       "      <td>...</td>\n",
       "      <td>...</td>\n",
       "    </tr>\n",
       "    <tr>\n",
       "      <th>1733</th>\n",
       "      <td>-0.755540</td>\n",
       "      <td>-1.287043</td>\n",
       "      <td>0.0</td>\n",
       "      <td>0.0</td>\n",
       "      <td>0.0</td>\n",
       "      <td>0.0</td>\n",
       "      <td>0.0</td>\n",
       "      <td>0.0</td>\n",
       "      <td>0.0</td>\n",
       "      <td>0.0</td>\n",
       "      <td>...</td>\n",
       "      <td>0.0</td>\n",
       "      <td>1.0</td>\n",
       "      <td>0.0</td>\n",
       "      <td>0.0</td>\n",
       "      <td>0.0</td>\n",
       "      <td>0.0</td>\n",
       "      <td>0.0</td>\n",
       "      <td>0.0</td>\n",
       "      <td>25.99</td>\n",
       "      <td>23.1573</td>\n",
       "    </tr>\n",
       "    <tr>\n",
       "      <th>1734</th>\n",
       "      <td>0.461149</td>\n",
       "      <td>0.146525</td>\n",
       "      <td>0.0</td>\n",
       "      <td>0.0</td>\n",
       "      <td>0.0</td>\n",
       "      <td>0.0</td>\n",
       "      <td>0.0</td>\n",
       "      <td>0.0</td>\n",
       "      <td>0.0</td>\n",
       "      <td>0.0</td>\n",
       "      <td>...</td>\n",
       "      <td>0.0</td>\n",
       "      <td>0.0</td>\n",
       "      <td>1.0</td>\n",
       "      <td>0.0</td>\n",
       "      <td>0.0</td>\n",
       "      <td>0.0</td>\n",
       "      <td>0.0</td>\n",
       "      <td>0.0</td>\n",
       "      <td>120.00</td>\n",
       "      <td>116.7297</td>\n",
       "    </tr>\n",
       "    <tr>\n",
       "      <th>1735</th>\n",
       "      <td>-0.315512</td>\n",
       "      <td>0.168546</td>\n",
       "      <td>0.0</td>\n",
       "      <td>0.0</td>\n",
       "      <td>0.0</td>\n",
       "      <td>0.0</td>\n",
       "      <td>0.0</td>\n",
       "      <td>0.0</td>\n",
       "      <td>0.0</td>\n",
       "      <td>0.0</td>\n",
       "      <td>...</td>\n",
       "      <td>0.0</td>\n",
       "      <td>1.0</td>\n",
       "      <td>0.0</td>\n",
       "      <td>0.0</td>\n",
       "      <td>0.0</td>\n",
       "      <td>0.0</td>\n",
       "      <td>0.0</td>\n",
       "      <td>0.0</td>\n",
       "      <td>79.00</td>\n",
       "      <td>77.9492</td>\n",
       "    </tr>\n",
       "    <tr>\n",
       "      <th>1736</th>\n",
       "      <td>1.017796</td>\n",
       "      <td>-0.396673</td>\n",
       "      <td>0.0</td>\n",
       "      <td>0.0</td>\n",
       "      <td>0.0</td>\n",
       "      <td>0.0</td>\n",
       "      <td>0.0</td>\n",
       "      <td>0.0</td>\n",
       "      <td>0.0</td>\n",
       "      <td>0.0</td>\n",
       "      <td>...</td>\n",
       "      <td>0.0</td>\n",
       "      <td>0.0</td>\n",
       "      <td>0.0</td>\n",
       "      <td>1.0</td>\n",
       "      <td>0.0</td>\n",
       "      <td>0.0</td>\n",
       "      <td>0.0</td>\n",
       "      <td>0.0</td>\n",
       "      <td>120.00</td>\n",
       "      <td>126.5271</td>\n",
       "    </tr>\n",
       "    <tr>\n",
       "      <th>1737</th>\n",
       "      <td>0.146156</td>\n",
       "      <td>-0.412033</td>\n",
       "      <td>0.0</td>\n",
       "      <td>0.0</td>\n",
       "      <td>0.0</td>\n",
       "      <td>0.0</td>\n",
       "      <td>0.0</td>\n",
       "      <td>0.0</td>\n",
       "      <td>0.0</td>\n",
       "      <td>0.0</td>\n",
       "      <td>...</td>\n",
       "      <td>0.0</td>\n",
       "      <td>0.0</td>\n",
       "      <td>1.0</td>\n",
       "      <td>0.0</td>\n",
       "      <td>0.0</td>\n",
       "      <td>0.0</td>\n",
       "      <td>0.0</td>\n",
       "      <td>0.0</td>\n",
       "      <td>82.00</td>\n",
       "      <td>81.0800</td>\n",
       "    </tr>\n",
       "  </tbody>\n",
       "</table>\n",
       "<p>1738 rows × 284 columns</p>\n",
       "</div>"
      ],
      "text/plain": [
       "      total_sqft  price_per_sqft  location_1st Block Jayanagar  \\\n",
       "0      -0.089487       -0.492071                           0.0   \n",
       "1       0.266382        1.153375                           0.0   \n",
       "2       0.182224       -1.247824                           0.0   \n",
       "3       0.340923        0.613608                           0.0   \n",
       "4      -0.393659       -0.996302                           0.0   \n",
       "...          ...             ...                           ...   \n",
       "1733   -0.755540       -1.287043                           0.0   \n",
       "1734    0.461149        0.146525                           0.0   \n",
       "1735   -0.315512        0.168546                           0.0   \n",
       "1736    1.017796       -0.396673                           0.0   \n",
       "1737    0.146156       -0.412033                           0.0   \n",
       "\n",
       "      location_1st Phase JP Nagar  location_2nd Phase Judicial Layout  \\\n",
       "0                             0.0                                 0.0   \n",
       "1                             0.0                                 0.0   \n",
       "2                             0.0                                 0.0   \n",
       "3                             0.0                                 0.0   \n",
       "4                             0.0                                 0.0   \n",
       "...                           ...                                 ...   \n",
       "1733                          0.0                                 0.0   \n",
       "1734                          0.0                                 0.0   \n",
       "1735                          0.0                                 0.0   \n",
       "1736                          0.0                                 0.0   \n",
       "1737                          0.0                                 0.0   \n",
       "\n",
       "      location_2nd Stage Nagarbhavi  location_5th Block Hbr Layout  \\\n",
       "0                               0.0                            0.0   \n",
       "1                               0.0                            0.0   \n",
       "2                               0.0                            0.0   \n",
       "3                               0.0                            0.0   \n",
       "4                               0.0                            0.0   \n",
       "...                             ...                            ...   \n",
       "1733                            0.0                            0.0   \n",
       "1734                            0.0                            0.0   \n",
       "1735                            0.0                            0.0   \n",
       "1736                            0.0                            0.0   \n",
       "1737                            0.0                            0.0   \n",
       "\n",
       "      location_5th Phase JP Nagar  location_6th Phase JP Nagar  \\\n",
       "0                             0.0                          0.0   \n",
       "1                             0.0                          0.0   \n",
       "2                             0.0                          0.0   \n",
       "3                             0.0                          0.0   \n",
       "4                             0.0                          0.0   \n",
       "...                           ...                          ...   \n",
       "1733                          0.0                          0.0   \n",
       "1734                          0.0                          0.0   \n",
       "1735                          0.0                          0.0   \n",
       "1736                          0.0                          0.0   \n",
       "1737                          0.0                          0.0   \n",
       "\n",
       "      location_7th Phase JP Nagar  ...  bhk_1  bhk_2  bhk_3  bhk_4  bhk_5  \\\n",
       "0                             0.0  ...    0.0    1.0    0.0    0.0    0.0   \n",
       "1                             0.0  ...    0.0    1.0    0.0    0.0    0.0   \n",
       "2                             0.0  ...    0.0    0.0    1.0    0.0    0.0   \n",
       "3                             0.0  ...    0.0    0.0    1.0    0.0    0.0   \n",
       "4                             0.0  ...    0.0    1.0    0.0    0.0    0.0   \n",
       "...                           ...  ...    ...    ...    ...    ...    ...   \n",
       "1733                          0.0  ...    0.0    1.0    0.0    0.0    0.0   \n",
       "1734                          0.0  ...    0.0    0.0    1.0    0.0    0.0   \n",
       "1735                          0.0  ...    0.0    1.0    0.0    0.0    0.0   \n",
       "1736                          0.0  ...    0.0    0.0    0.0    1.0    0.0   \n",
       "1737                          0.0  ...    0.0    0.0    1.0    0.0    0.0   \n",
       "\n",
       "      bhk_6  bhk_8  bhk_9   price     Label  \n",
       "0       0.0    0.0    0.0   69.30   67.4121  \n",
       "1       0.0    0.0    0.0  150.00  154.0539  \n",
       "2       0.0    0.0    0.0   51.35   58.3128  \n",
       "3       0.0    0.0    0.0  133.00  131.3407  \n",
       "4       0.0    0.0    0.0   43.10   43.0410  \n",
       "...     ...    ...    ...     ...       ...  \n",
       "1733    0.0    0.0    0.0   25.99   23.1573  \n",
       "1734    0.0    0.0    0.0  120.00  116.7297  \n",
       "1735    0.0    0.0    0.0   79.00   77.9492  \n",
       "1736    0.0    0.0    0.0  120.00  126.5271  \n",
       "1737    0.0    0.0    0.0   82.00   81.0800  \n",
       "\n",
       "[1738 rows x 284 columns]"
      ]
     },
     "execution_count": 60,
     "metadata": {},
     "output_type": "execute_result"
    }
   ],
   "source": [
    "predict_model(model)"
   ]
  },
  {
   "cell_type": "markdown",
   "metadata": {},
   "source": [
    "### From above it is clear that R2 and lower RMSE are lesser  for our model with test set. so we can finalize the model"
   ]
  },
  {
   "cell_type": "code",
   "execution_count": 64,
   "metadata": {},
   "outputs": [
    {
     "data": {
      "application/vnd.jupyter.widget-view+json": {
       "model_id": "5550dea520ca4aa09a2a2765bdc3f968",
       "version_major": 2,
       "version_minor": 0
      },
      "text/plain": [
       "interactive(children=(ToggleButtons(description='Plot Type:', icons=('',), options=(('Hyperparameters', 'param…"
      ]
     },
     "metadata": {},
     "output_type": "display_data"
    }
   ],
   "source": [
    "evaluate_model(model)"
   ]
  },
  {
   "cell_type": "code",
   "execution_count": 65,
   "metadata": {},
   "outputs": [
    {
     "data": {
      "text/html": [
       "<div>\n",
       "<style scoped>\n",
       "    .dataframe tbody tr th:only-of-type {\n",
       "        vertical-align: middle;\n",
       "    }\n",
       "\n",
       "    .dataframe tbody tr th {\n",
       "        vertical-align: top;\n",
       "    }\n",
       "\n",
       "    .dataframe thead th {\n",
       "        text-align: right;\n",
       "    }\n",
       "</style>\n",
       "<table border=\"1\" class=\"dataframe\">\n",
       "  <thead>\n",
       "    <tr style=\"text-align: right;\">\n",
       "      <th></th>\n",
       "      <th>price</th>\n",
       "      <th>Label</th>\n",
       "    </tr>\n",
       "  </thead>\n",
       "  <tbody>\n",
       "    <tr>\n",
       "      <th>0</th>\n",
       "      <td>148.0</td>\n",
       "      <td>153.8519</td>\n",
       "    </tr>\n",
       "    <tr>\n",
       "      <th>1</th>\n",
       "      <td>413.0</td>\n",
       "      <td>404.1208</td>\n",
       "    </tr>\n",
       "    <tr>\n",
       "      <th>2</th>\n",
       "      <td>167.0</td>\n",
       "      <td>166.1212</td>\n",
       "    </tr>\n",
       "    <tr>\n",
       "      <th>3</th>\n",
       "      <td>85.0</td>\n",
       "      <td>83.1922</td>\n",
       "    </tr>\n",
       "    <tr>\n",
       "      <th>4</th>\n",
       "      <td>100.0</td>\n",
       "      <td>97.6684</td>\n",
       "    </tr>\n",
       "  </tbody>\n",
       "</table>\n",
       "</div>"
      ],
      "text/plain": [
       "   price     Label\n",
       "0  148.0  153.8519\n",
       "1  413.0  404.1208\n",
       "2  167.0  166.1212\n",
       "3   85.0   83.1922\n",
       "4  100.0   97.6684"
      ]
     },
     "execution_count": 65,
     "metadata": {},
     "output_type": "execute_result"
    }
   ],
   "source": [
    "predict_df=predict_model(model,data=data_unseen)\n",
    "predict_df[['price','Label']].head()"
   ]
  },
  {
   "cell_type": "code",
   "execution_count": null,
   "metadata": {},
   "outputs": [],
   "source": []
  }
 ],
 "metadata": {
  "kernelspec": {
   "display_name": "Python 3",
   "language": "python",
   "name": "python3"
  },
  "language_info": {
   "codemirror_mode": {
    "name": "ipython",
    "version": 3
   },
   "file_extension": ".py",
   "mimetype": "text/x-python",
   "name": "python",
   "nbconvert_exporter": "python",
   "pygments_lexer": "ipython3",
   "version": "3.7.6"
  }
 },
 "nbformat": 4,
 "nbformat_minor": 2
}
